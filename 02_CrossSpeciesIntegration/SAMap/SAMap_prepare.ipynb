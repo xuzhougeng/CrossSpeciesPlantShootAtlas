{
 "cells": [
  {
   "cell_type": "code",
   "execution_count": null,
   "metadata": {},
   "outputs": [],
   "source": [
    "# Set in advance to prevent Python from crashing due to large data\n",
    "# Reduce the value appropriately if the data is larger\n",
    "import os\n",
    "# Set this before importing other libraries that depend on OpenBLAS\n",
    "os.environ[\"OPENBLAS_NUM_THREADS\"] = \"4\"\n",
    "\n",
    "from samap.mapping import SAMAP\n",
    "from samap.analysis import (get_mapping_scores, GenePairFinder,\n",
    "                            sankey_plot, chord_plot, CellTypeTriangles, \n",
    "                            ParalogSubstitutions, FunctionalEnrichment,\n",
    "                            convert_eggnog_to_homologs, GeneTriangles)\n",
    "from samalg import SAM\n",
    "import pandas as pd\n",
    "import scanpy as sc\n",
    "import numpy as np\n",
    "import matplotlib.pyplot as plt\n",
    "import seaborn as sns\n",
    "import scanpy.external as sce\n",
    "from samalg import SAM #import SAM"
   ]
  },
  {
   "cell_type": "markdown",
   "metadata": {},
   "source": [
    "# Data preprocessing\n",
    "\n",
    "Prepare for subsequent integration analysis.\n",
    "\n",
    "**species1**: \n",
    "\n",
    "- data/h5ad/sp1.h5ad\n",
    "- data/pep/sp1.pep\n",
    "\n",
    "**species2**: \n",
    "\n",
    "- data/h5ad/sp2.h5ad\n",
    "- data/pep/sp2.pep\n"
   ]
  },
  {
   "cell_type": "code",
   "execution_count": 20,
   "metadata": {},
   "outputs": [],
   "source": [
    "# 提前设置，因为数据太大，python会崩溃\n",
    "# 适当降低，如果更大\n",
    "import os\n",
    "# 在其他需要OpenBLAS的库导入前设置\n",
    "os.environ[\"OPENBLAS_NUM_THREADS\"] = \"5\""
   ]
  },
  {
   "cell_type": "code",
   "execution_count": null,
   "metadata": {},
   "outputs": [],
   "source": [
    "# Run the following code if there is only one sample or no batches\n",
    "\n",
    "fn = 'data/h5ad/mt.h5ad'\n",
    "sam = SAM()\n",
    "sam.load_data(fn)\n",
    "sam.preprocess_data() # log transforms and filters the data\n",
    "sam.run( ) # run SAM with harmonization\n",
    "sam.save(\"result/mt\")"
   ]
  },
  {
   "cell_type": "code",
   "execution_count": null,
   "metadata": {},
   "outputs": [],
   "source": [
    "# Run the following code if there are multiple samples with batches. Remember to modify batch_key.\n",
    "# batch_key corresponds to the harmony batch key in Seurat\n",
    "\n",
    "fn = 'data/h5ad/bmg.h5ad'\n",
    "sam = SAM()\n",
    "sam.load_data(fn)\n",
    "sam.preprocess_data() # log transforms and filters the data\n",
    "sam.run(batch_key = \"orig.ident\") # run SAM with harmonization\n",
    "sam.save(\"result/bmg\")"
   ]
  },
  {
   "cell_type": "code",
   "execution_count": 19,
   "metadata": {},
   "outputs": [],
   "source": [
    "import scanpy as sc"
   ]
  },
  {
   "cell_type": "code",
   "execution_count": 19,
   "metadata": {},
   "outputs": [],
   "source": [
    "# Load the previously processed SAM object\n",
    "from samap.mapping import SAMAP\n",
    "from samalg import SAM\n",
    "\n",
    "sam1 = SAM()\n",
    "sam1.load(\"./result/at_pct20.pkl\")"
   ]
  },
  {
   "cell_type": "code",
   "execution_count": 20,
   "metadata": {},
   "outputs": [],
   "source": [
    "adata = sam1.adata"
   ]
  },
  {
   "cell_type": "code",
   "execution_count": null,
   "metadata": {},
   "outputs": [],
   "source": [
    "adata.obs.head()"
   ]
  },
  {
   "cell_type": "code",
   "execution_count": null,
   "metadata": {},
   "outputs": [],
   "source": [
    "sc.pl.umap(adata, color=['seurat_high'])"
   ]
  },
  {
   "cell_type": "code",
   "execution_count": 21,
   "metadata": {},
   "outputs": [],
   "source": [
    "adata.write_h5ad(\"./at_pt25.h5ad\")"
   ]
  }
 ],
 "metadata": {
  "kernelspec": {
   "display_name": "Python 3",
   "language": "python",
   "name": "python3"
  },
  "language_info": {
   "codemirror_mode": {
    "name": "ipython",
    "version": 3
   },
   "file_extension": ".py",
   "mimetype": "text/x-python",
   "name": "python",
   "nbconvert_exporter": "python",
   "pygments_lexer": "ipython3",
   "version": "3.9.19"
  }
 },
 "nbformat": 4,
 "nbformat_minor": 2
}
