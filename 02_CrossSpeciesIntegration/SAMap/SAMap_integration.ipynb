{
 "cells": [
  {
   "cell_type": "code",
   "execution_count": null,
   "metadata": {},
   "outputs": [],
   "source": [
    "import os\n",
    "# 在其他需要OpenBLAS的库导入前设置\n",
    "os.environ[\"OPENBLAS_NUM_THREADS\"] = \"10\"\n",
    "\n",
    "\n",
    "from samap.mapping import SAMAP\n",
    "from samap.analysis import (get_mapping_scores, GenePairFinder,\n",
    "                            sankey_plot, chord_plot, CellTypeTriangles, \n",
    "                            ParalogSubstitutions, FunctionalEnrichment,\n",
    "                            convert_eggnog_to_homologs, GeneTriangles)\n",
    "from samalg import SAM\n",
    "import pandas as pd\n",
    "import scanpy as sc\n",
    "import numpy as np\n",
    "import matplotlib.pyplot as plt\n",
    "import seaborn as sns\n",
    "import scanpy.external as sce\n",
    "from samalg import SAM #import SAM"
   ]
  },
  {
   "cell_type": "code",
   "execution_count": null,
   "metadata": {},
   "outputs": [],
   "source": [
    "# 加载已经处理的SAM\n",
    "sam1 = SAM()\n",
    "sam1.load(\"./result/sp1.pkl\")\n",
    "\n",
    "sam2 = SAM()\n",
    "sam2.load(\"./result/sp2.pkl\")\n",
    "\n",
    "# 第一次运行\n",
    "sams = {'sp1':sam1,'sp2':sam2 }\n",
    "\n",
    "sm = SAMAP(\n",
    "        sams,\n",
    "        f_maps = 'data/pep/maps/',\n",
    "    )"
   ]
  },
  {
   "cell_type": "code",
   "execution_count": null,
   "metadata": {},
   "outputs": [],
   "source": [
    "# run the SAMap algorithm using the run function.\n",
    "sm.run(pairwise=True)"
   ]
  },
  {
   "cell_type": "code",
   "execution_count": 5,
   "metadata": {},
   "outputs": [],
   "source": [
    "# save results to file\n",
    "import pickle\n",
    "with open('result/samap_integration.pkl','wb') as f:\n",
    "    pickle.dump(sm,f)"
   ]
  }
 ],
 "metadata": {
  "kernelspec": {
   "display_name": "Python 3",
   "language": "python",
   "name": "python3"
  },
  "language_info": {
   "codemirror_mode": {
    "name": "ipython",
    "version": 3
   },
   "file_extension": ".py",
   "mimetype": "text/x-python",
   "name": "python",
   "nbconvert_exporter": "python",
   "pygments_lexer": "ipython3",
   "version": "3.9.19"
  }
 },
 "nbformat": 4,
 "nbformat_minor": 2
}
