{
 "cells": [
  {
   "cell_type": "code",
   "execution_count": 50,
   "metadata": {},
   "outputs": [],
   "source": [
    "import scanpy as sc\n",
    "#from .autonotebook import tqdm as notebook_tqdm\n",
    "import numpy as np\n",
    "import matplotlib.pyplot as plt\n",
    "import pandas as pd"
   ]
  },
  {
   "cell_type": "code",
   "execution_count": 53,
   "metadata": {},
   "outputs": [],
   "source": [
    "import os\n",
    "\n",
    "# Define the directory and filename suffix\n",
    "folder = \"saturn_results\"\n",
    "suffix = \"_saturn_seed_0.h5ad\"\n",
    "\n",
    "# Search for the file with the matching suffix\n",
    "for filename in os.listdir(folder):\n",
    "    if filename.endswith(suffix):\n",
    "        h5ad_file = os.path.join(folder, filename)\n",
    "        break\n",
    "else:\n",
    "    raise FileNotFoundError(f\"No file ending with '{suffix}' found in {folder}\")\n"
   ]
  },
  {
   "cell_type": "code",
   "execution_count": 54,
   "metadata": {},
   "outputs": [],
   "source": [
    "atlas_ad = sc.read_h5ad(h5ad_file)"
   ]
  },
  {
   "cell_type": "code",
   "execution_count": null,
   "metadata": {},
   "outputs": [],
   "source": [
    "atlas_ad.obs.head()"
   ]
  },
  {
   "cell_type": "markdown",
   "metadata": {},
   "source": [
    "# Data preprocessing"
   ]
  },
  {
   "cell_type": "code",
   "execution_count": null,
   "metadata": {},
   "outputs": [],
   "source": [
    "sc.pp.pca(atlas_ad)\n",
    "sc.pp.neighbors(atlas_ad)"
   ]
  },
  {
   "cell_type": "code",
   "execution_count": null,
   "metadata": {},
   "outputs": [],
   "source": [
    "sc.tl.umap(atlas_ad, n_components=2)"
   ]
  },
  {
   "cell_type": "code",
   "execution_count": null,
   "metadata": {},
   "outputs": [],
   "source": [
    "## Clustering\n",
    "sc.tl.leiden(atlas_ad, resolution=0.1)"
   ]
  },
  {
   "cell_type": "code",
   "execution_count": null,
   "metadata": {},
   "outputs": [],
   "source": [
    "# Save result\n",
    "atlas_ad.write_h5ad(\"output/atlas.h5ad\")"
   ]
  },
  {
   "cell_type": "markdown",
   "metadata": {},
   "source": [
    "# Visualize data distribution"
   ]
  },
  {
   "cell_type": "code",
   "execution_count": null,
   "metadata": {},
   "outputs": [],
   "source": [
    "sc.set_figure_params(dpi=72, color_map = 'viridis_r',figsize=[8,8] )\n",
    "sc.settings.verbosity = 1\n",
    "sc.logging.print_header()"
   ]
  },
  {
   "cell_type": "markdown",
   "metadata": {},
   "source": [
    "## By species"
   ]
  },
  {
   "cell_type": "code",
   "execution_count": null,
   "metadata": {},
   "outputs": [],
   "source": [
    "sc.pl.umap(atlas_ad, color=\"species\", projection=\"2d\", palette='Set1')"
   ]
  },
  {
   "cell_type": "markdown",
   "metadata": {},
   "source": [
    "## Visualize each species individually"
   ]
  },
  {
   "cell_type": "code",
   "execution_count": null,
   "metadata": {},
   "outputs": [],
   "source": [
    "import matplotlib.pyplot as plt\n",
    "from matplotlib.backends.backend_pdf import PdfPages\n",
    "import math\n",
    "\n",
    "# Get all unique species\n",
    "species = atlas_ad.obs['species'].unique()\n",
    "\n",
    "# Calculate number of rows and columns\n",
    "num_species = len(species)\n",
    "num_cols = 4\n",
    "num_rows = math.ceil(num_species / num_cols)\n",
    "\n",
    "# Open a PDF file\n",
    "with PdfPages('output/species_plots.pdf') as pdf:\n",
    "    # Plot each species one by one\n",
    "    for i in range(0, num_species, num_cols * num_rows):\n",
    "        # Create a new figure and set up the subplot layout\n",
    "        fig, axes = plt.subplots(num_rows, num_cols, figsize=(15, num_rows * 3))\n",
    "        axes = axes.flatten()  # Flatten the 2D axes array into 1D\n",
    "\n",
    "        # Set color mapping and default colormap\n",
    "        sc.set_figure_params(color_map='Set3')\n",
    "        for j, highlight_species in enumerate(species[i:i + num_cols * num_rows]):\n",
    "            color_map = {}\n",
    "            for sp in species:\n",
    "                if sp == highlight_species:\n",
    "                    color_map[sp] = \"red\"\n",
    "                else:\n",
    "                    color_map[sp] = \"gray\"\n",
    "            # Plot UMAP for the species\n",
    "            sc.pl.umap(atlas_ad, color='species', title=f'{highlight_species}', palette=color_map, legend_loc=None, show=False, ax=axes[j])\n",
    "\n",
    "        # Hide unused subplots\n",
    "        for k in range(j + 1, num_rows * num_cols):\n",
    "            axes[k].axis('off')\n",
    "\n",
    "        # Adjust layout and save the page\n",
    "        plt.tight_layout()\n",
    "        pdf.savefig(fig)  # Save current page\n",
    "        plt.close(fig)  # Close the figure to free memory\n"
   ]
  },
  {
   "cell_type": "markdown",
   "metadata": {},
   "source": [
    "## By original labels"
   ]
  },
  {
   "cell_type": "code",
   "execution_count": null,
   "metadata": {},
   "outputs": [],
   "source": [
    "sc.pl.umap(atlas_ad, color=\"labels2\")"
   ]
  },
  {
   "cell_type": "markdown",
   "metadata": {},
   "source": [
    "## Visualize each cluster individually"
   ]
  },
  {
   "cell_type": "code",
   "execution_count": null,
   "metadata": {},
   "outputs": [],
   "source": [
    "import matplotlib.pyplot as plt\n",
    "from matplotlib.backends.backend_pdf import PdfPages\n",
    "import math\n",
    "\n",
    "# Get all clusters and species\n",
    "clusters = atlas_ad.obs['labels'].unique()\n",
    "species = atlas_ad.obs['species'].unique()\n",
    "\n",
    "# Get the list of clusters to be plotted\n",
    "all_clusters = clusters.to_list()\n",
    "\n",
    "# Calculate number of rows and columns\n",
    "num_clusters = len(all_clusters)\n",
    "num_cols = 4\n",
    "num_rows = math.ceil(num_clusters / num_cols)\n",
    "\n",
    "# Open a PDF file\n",
    "with PdfPages('output/cluster_plots.pdf') as pdf:\n",
    "    # Plot each cluster one by one\n",
    "    for i in range(0, num_clusters, num_cols * num_rows):\n",
    "        # Create a new figure and set up the subplot layout\n",
    "        fig, axes = plt.subplots(num_rows, num_cols, figsize=(15, num_rows * 3))\n",
    "        axes = axes.flatten()  # Flatten the 2D axes array into 1D\n",
    "\n",
    "        # Set color mapping and default colormap\n",
    "        sc.set_figure_params(color_map='Set3')\n",
    "        for j, highlight_cluster in enumerate(all_clusters[i:i + num_cols * num_rows]):\n",
    "            color_map = {}\n",
    "            for cluster in all_clusters:\n",
    "                if cluster == highlight_cluster:\n",
    "                    color_map[cluster] = \"red\"\n",
    "                else:\n",
    "                    color_map[cluster] = \"gray\"\n",
    "            # Plot UMAP for the cluster\n",
    "            sc.pl.umap(atlas_ad, color='labels', title=f'{highlight_cluster}', palette=color_map, legend_loc=None, show=False, ax=axes[j])\n",
    "\n",
    "        # Hide unused subplots\n",
    "        for k in range(j + 1, num_rows * num_cols):\n",
    "            axes[k].axis('off')\n",
    "\n",
    "        # Adjust layout and save the page\n",
    "        plt.tight_layout()\n",
    "        pdf.savefig(fig)  # Save current page\n",
    "        plt.close(fig)  # Close the figure to free memory\n"
   ]
  },
  {
   "cell_type": "markdown",
   "metadata": {},
   "source": [
    "## Species composition in different clusters"
   ]
  },
  {
   "cell_type": "code",
   "execution_count": null,
   "metadata": {},
   "outputs": [],
   "source": [
    "sc.pl.umap(adata=atlas_ad, color='leiden', legend_loc='on data')"
   ]
  },
  {
   "cell_type": "code",
   "execution_count": null,
   "metadata": {},
   "outputs": [],
   "source": [
    "import pandas as pd\n",
    "import matplotlib.pyplot as plt\n",
    "\n",
    "# Convert data to a DataFrame\n",
    "data = pd.DataFrame(atlas_ad.obs)\n",
    "\n",
    "# Count the number of each species in each cluster\n",
    "count_table = data.groupby(['leiden', 'species']).size().unstack(fill_value=0)\n",
    "\n",
    "# Convert counts to proportions\n",
    "proportion_table = count_table.div(count_table.sum(axis=1), axis=0)\n",
    "\n",
    "# Plot stacked bar chart\n",
    "ax = proportion_table.plot(kind='bar', stacked=True, figsize=(10, 6), width=.8)\n",
    "\n",
    "# Set title and labels\n",
    "ax.set_title('Proportion of Species in Each Cluster')\n",
    "ax.set_xlabel('Cluster')\n",
    "ax.set_ylabel('Proportion')\n",
    "ax.grid(False)\n",
    "\n",
    "# Show legend\n",
    "ax.legend(title='Species', bbox_to_anchor=(1.05, 1), loc='upper left')\n",
    "\n",
    "# Display the plot\n",
    "plt.tight_layout()\n",
    "plt.show()\n"
   ]
  },
  {
   "cell_type": "markdown",
   "metadata": {},
   "source": [
    "# Macrogene differential expression"
   ]
  },
  {
   "cell_type": "code",
   "execution_count": 126,
   "metadata": {},
   "outputs": [],
   "source": [
    "import pickle"
   ]
  },
  {
   "cell_type": "code",
   "execution_count": 127,
   "metadata": {},
   "outputs": [],
   "source": [
    "import os\n",
    "import pickle\n",
    "\n",
    "# Define the directory and suffix pattern\n",
    "folder = \"saturn_results\"\n",
    "suffix = \"_saturn_seed_0_genes_to_macrogenes.pkl\"\n",
    "\n",
    "# Search for the file with the matching suffix\n",
    "for filename in os.listdir(folder):\n",
    "    if filename.endswith(suffix):\n",
    "        filepath = os.path.join(folder, filename)\n",
    "        with open(filepath, \"rb\") as f:\n",
    "            macrogene_weights = pickle.load(f)\n",
    "        break\n",
    "else:\n",
    "    raise FileNotFoundError(f\"No file ending with '{suffix}' found in {folder}\")\n"
   ]
  },
  {
   "cell_type": "code",
   "execution_count": null,
   "metadata": {},
   "outputs": [],
   "source": [
    "# macrogene weights is a dictionary of (species_{gene name}) : [gene to macrogen weight](1x2000)\n",
    "len(macrogene_weights)"
   ]
  },
  {
   "cell_type": "code",
   "execution_count": 104,
   "metadata": {},
   "outputs": [],
   "source": [
    "# Create a copy of the adata with macrogenes as the X values\n",
    "macrogene_adata = sc.AnnData(atlas_ad.obsm[\"macrogenes\"])\n",
    "macrogene_adata.obs = atlas_ad.obs\n"
   ]
  },
  {
   "cell_type": "code",
   "execution_count": null,
   "metadata": {},
   "outputs": [],
   "source": [
    "# Rows are cells, columns are macrogenes, each value corresponds to the gene weight\n",
    "macrogene_adata.shape"
   ]
  },
  {
   "cell_type": "code",
   "execution_count": null,
   "metadata": {},
   "outputs": [],
   "source": [
    "macrogene_adata.obs"
   ]
  },
  {
   "cell_type": "code",
   "execution_count": 134,
   "metadata": {},
   "outputs": [
    {
     "name": "stderr",
     "output_type": "stream",
     "text": [
      "/home/xzg/miniforge3/envs/SATURN/lib/python3.10/site-packages/numpy/core/fromnumeric.py:86: FutureWarning: The behavior of DataFrame.sum with axis=None is deprecated, in a future version this will reduce over both axes and return a scalar. To retain the old behavior, pass axis=0 (or do not pass axis)\n",
      "  return reduction(axis=axis, out=out, **passkwargs)\n"
     ]
    }
   ],
   "source": [
    "# Differential analysis based on specified group, eg. 11\n",
    "sc.tl.rank_genes_groups(macrogene_adata, groupby=\"leiden\", groups=[\"11\"], method=\"wilcoxon\")"
   ]
  },
  {
   "cell_type": "code",
   "execution_count": null,
   "metadata": {},
   "outputs": [],
   "source": [
    "sc.pl.rank_genes_groups(macrogene_adata)"
   ]
  },
  {
   "cell_type": "code",
   "execution_count": null,
   "metadata": {},
   "outputs": [],
   "source": [
    "sc.pl.rank_genes_groups_dotplot(macrogene_adata,swap_axes=True)"
   ]
  },
  {
   "cell_type": "code",
   "execution_count": null,
   "metadata": {},
   "outputs": [],
   "source": [
    "de_df = sc.get.rank_genes_groups_df(macrogene_adata, group=\"11\").head(20)\n",
    "de_df"
   ]
  },
  {
   "cell_type": "code",
   "execution_count": 137,
   "metadata": {},
   "outputs": [],
   "source": [
    "def get_scores(macrogene):\n",
    "    '''\n",
    "    Given the index of a macrogene, return the scores by gene for that centroid\n",
    "    '''\n",
    "    scores = {}\n",
    "    for (gene), score in macrogene_weights.items():\n",
    "        scores[gene] = score[int(macrogene)]\n",
    "    return scores"
   ]
  },
  {
   "cell_type": "code",
   "execution_count": 138,
   "metadata": {},
   "outputs": [],
   "source": [
    "\n",
    "# get macrogene , e.g 891\n",
    "macrogene = 891\n",
    "df = pd.DataFrame(get_scores(macrogene).items(), columns=[\"gene\", \"weight\"])\\\n",
    "        .sort_values(\"weight\", ascending=False)"
   ]
  },
  {
   "cell_type": "code",
   "execution_count": null,
   "metadata": {},
   "outputs": [],
   "source": [
    "for macrogene in de_df[\"names\"]:\n",
    "    print(f\"Macrogene {macrogene}\")\n",
    "    df = pd.DataFrame(get_scores(macrogene).items(), columns=[\"gene\", \"weight\"])\\\n",
    "            .sort_values(\"weight\", ascending=False)\n",
    "    #df.reset_index(inplace=True)\n",
    "    # get the rank of the gene in df and print it\n",
    "    #print(df[df[\"gene\"] == gene].index[0])\n",
    "    display(df.head(20))\n",
    "\n"
   ]
  }
 ],
 "metadata": {
  "kernelspec": {
   "display_name": "SATURN",
   "language": "python",
   "name": "python3"
  },
  "language_info": {
   "codemirror_mode": {
    "name": "ipython",
    "version": 3
   },
   "file_extension": ".py",
   "mimetype": "text/x-python",
   "name": "python",
   "nbconvert_exporter": "python",
   "pygments_lexer": "ipython3",
   "version": "3.10.13"
  }
 },
 "nbformat": 4,
 "nbformat_minor": 2
}
