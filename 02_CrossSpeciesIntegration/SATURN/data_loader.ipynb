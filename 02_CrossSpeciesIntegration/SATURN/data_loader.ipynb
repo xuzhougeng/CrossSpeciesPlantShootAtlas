{
 "cells": [
  {
   "cell_type": "markdown",
   "metadata": {},
   "source": [
    "# Data Organization"
   ]
  },
  {
   "cell_type": "markdown",
   "id": "2527dba6-4b72-4346-a088-ff3032cf515a",
   "metadata": {},
   "source": [
    "## Prepare protein embedding\n",
    "\n",
    "Get the embedding.pt file for each species's genes, each species only needs to be done once.\""
   ]
  },
  {
   "cell_type": "code",
   "execution_count": null,
   "id": "ace3dadc",
   "metadata": {},
   "outputs": [],
   "source": [
    "pep_file = 'data/pep/sp1.fa' # Input protein sequences, ensure each gene has only one\n",
    "tmp_dir = 'data/pep/sp1_pep_tmp' # Temporary directory"
   ]
  },
  {
   "cell_type": "code",
   "execution_count": null,
   "id": "bbb8220b",
   "metadata": {},
   "outputs": [],
   "source": [
    "!conda run -n SATURN python extract.py esm2_t48_15B_UR50D  $pep_file $tmp_dir --repr_layers 0 47 48 --include mean per_tok &> run.log &"
   ]
  },
  {
   "cell_type": "code",
   "execution_count": null,
   "id": "10e309b5",
   "metadata": {},
   "outputs": [],
   "source": [
    "!conda run -n SATURN python merge_embedding.py $tmp_dir input sp1\n",
    "\n",
    "# output file\n",
    "# - sp1_protein_id_to_embedding.pt\n",
    "# - sp1_pt.pkl"
   ]
  },
  {
   "cell_type": "code",
   "execution_count": null,
   "id": "8deb2bda",
   "metadata": {},
   "outputs": [],
   "source": [
    "pep_file = 'data/pep/sp2.fa' # Input protein sequences, ensure each gene has only one\n",
    "tmp_dir = 'data/pep/sp2_pep_tmp' # Temporary directory"
   ]
  },
  {
   "cell_type": "code",
   "execution_count": null,
   "id": "9ae9db89",
   "metadata": {},
   "outputs": [],
   "source": [
    "!conda run -n SATURN python extract.py esm2_t48_15B_UR50D  $pep_file $tmp_dir --repr_layers 0 47 48 --include mean per_tok &> run.log &"
   ]
  },
  {
   "cell_type": "code",
   "execution_count": null,
   "id": "30327618",
   "metadata": {},
   "outputs": [],
   "source": [
    "!conda run -n SATURN python merge_embedding.py $tmp_dir input sp2\n",
    "\n",
    "# output file\n",
    "# - sp1_protein_id_to_embedding.pt\n",
    "# - sp1_pt.pkl"
   ]
  },
  {
   "cell_type": "markdown",
   "metadata": {},
   "source": [
    "# Save final result"
   ]
  },
  {
   "cell_type": "code",
   "execution_count": null,
   "id": "9fabaeb2-485b-4df3-921c-a0c0410a42cd",
   "metadata": {},
   "outputs": [],
   "source": [
    "# Make the csv\n",
    "import pandas as pd\n",
    "\n",
    "df = pd.DataFrame(columns=[\"path\", \"species\", \"embedding_path\"])\n",
    "df[\"species\"] = [\"sp1\", \"sp2\"]\n",
    "df[\"path\"] = [\n",
    "\"data/h5ad/sp1.h5ad\",\n",
    "\"data/h5ad/sp2.h5ad\",\n",
    "    ]\n",
    "\n",
    "##############################\n",
    "df[\"embedding_path\"] = [\n",
    "\"data/protein_id_to_embedding/sp1_protein_id_to_embedding.pt\",\n",
    "\"data/protein_id_to_embedding/sp2_protein_id_to_embedding.pt\",\n",
    "]\n",
    "df.to_csv(\"data/saturn_data.csv\", index=False)\n",
    "df"
   ]
  },
  {
   "cell_type": "code",
   "execution_count": 57,
   "id": "41bf4341",
   "metadata": {},
   "outputs": [],
   "source": [
    "import os\n",
    "full_path = os.path.abspath(\"data/saturn_data.csv\")"
   ]
  },
  {
   "cell_type": "code",
   "execution_count": null,
   "id": "2b3db0f3",
   "metadata": {},
   "outputs": [],
   "source": [
    "!cd ~/software/SATURN && conda run -n SATURN python3 ./train-saturn.py \\\n",
    "    --in_data={full_path} --in_label_col=\"cell_type\" \\\n",
    "        --ref_label_col=\"cell_type\" \\\n",
    "    --embedding_model=\"ESM2\" --batch_size=10240 --epochs=200 "
   ]
  },
  {
   "cell_type": "code",
   "execution_count": 61,
   "id": "ba4bb0bb",
   "metadata": {},
   "outputs": [],
   "source": [
    "# Move analysis results to current directory\n",
    "!mv ~/software/SATURN/out/saturn_results/ ."
   ]
  }
 ],
 "metadata": {
  "kernelspec": {
   "display_name": "SATURN",
   "language": "python",
   "name": "python3"
  },
  "language_info": {
   "codemirror_mode": {
    "name": "ipython",
    "version": 3
   },
   "file_extension": ".py",
   "mimetype": "text/x-python",
   "name": "python",
   "nbconvert_exporter": "python",
   "pygments_lexer": "ipython3",
   "version": "3.10.13"
  }
 },
 "nbformat": 4,
 "nbformat_minor": 5
}
