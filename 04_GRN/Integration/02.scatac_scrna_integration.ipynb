{
 "cells": [
  {
   "cell_type": "code",
   "execution_count": null,
   "metadata": {},
   "outputs": [],
   "source": [
    "import anndata as ad\n",
    "import scanpy as sc\n",
    "import networkx as nx\n",
    "import numpy as np\n",
    "import pandas as pd\n",
    "import scglue\n",
    "import seaborn as sns\n",
    "from IPython import display\n",
    "from matplotlib import rcParams\n",
    "from networkx.algorithms.bipartite import biadjacency_matrix\n",
    "from networkx.drawing.nx_agraph import graphviz_layout\n",
    "\n",
    "import snapatac2 as snap"
   ]
  },
  {
   "cell_type": "code",
   "execution_count": null,
   "metadata": {},
   "outputs": [],
   "source": [
    "scglue.plot.set_publication_params()\n",
    "rcParams[\"figure.figsize\"] = (4, 4)"
   ]
  },
  {
   "cell_type": "markdown",
   "metadata": {},
   "source": [
    "## build guidacne\n",
    "\n",
    "scrna.h5ad and scatac_peak_mat.h5ad  create by 01.scatac_preprocess.ipynb\n",
    "\n"
   ]
  },
  {
   "cell_type": "code",
   "execution_count": null,
   "metadata": {},
   "outputs": [],
   "source": [
    "rna = sc.read_h5ad(\"scrna.h5ad\")\n",
    "atac = sc.read_h5ad(\"scatac_peak_mat.h5ad\")"
   ]
  },
  {
   "cell_type": "code",
   "execution_count": null,
   "metadata": {},
   "outputs": [],
   "source": [
    "gtf_path = \"at-shoot-scATAC/at_genes.gtf.gz\" # Must have gene_id attribute in gtf file\n",
    "\n",
    "scglue.data.get_gene_annotation(\n",
    "    rna, gtf=gtf_path,\n",
    "    gtf_by=\"gene_id\"\n",
    ")\n",
    "rna.var.loc[:, [\"chrom\", \"chromStart\", \"chromEnd\"]].head()"
   ]
  },
  {
   "cell_type": "code",
   "execution_count": null,
   "metadata": {},
   "outputs": [],
   "source": [
    "snap.tl.spectral(atac,features=None)"
   ]
  },
  {
   "cell_type": "code",
   "execution_count": null,
   "metadata": {},
   "outputs": [],
   "source": [
    "snap.tl.umap(atac)"
   ]
  },
  {
   "cell_type": "code",
   "execution_count": null,
   "metadata": {},
   "outputs": [],
   "source": [
    "sc.pl.umap(atac, color='leiden', legend_loc = 'on data')"
   ]
  },
  {
   "cell_type": "code",
   "execution_count": null,
   "metadata": {},
   "outputs": [],
   "source": [
    "split = atac.var_names.str.split(r\"[:-]\")\n",
    "atac.var[\"chrom\"] = split.map(lambda x: x[0])\n",
    "atac.var[\"chromStart\"] = split.map(lambda x: x[1]).astype(int)\n",
    "atac.var[\"chromEnd\"] = split.map(lambda x: x[2]).astype(int)\n",
    "atac.var.head()"
   ]
  },
  {
   "cell_type": "code",
   "execution_count": null,
   "metadata": {},
   "outputs": [],
   "source": [
    "# delete the rows with no strand\n",
    "new_loc =  rna.var['strand'].isin([\"+\",\"-\"])\n",
    "rna = rna[ :, new_loc]"
   ]
  },
  {
   "cell_type": "code",
   "execution_count": null,
   "metadata": {},
   "outputs": [],
   "source": [
    "guidance = scglue.genomics.rna_anchored_guidance_graph(rna, atac)\n",
    "guidance"
   ]
  },
  {
   "cell_type": "code",
   "execution_count": null,
   "metadata": {},
   "outputs": [],
   "source": [
    "# check the guidance\n",
    "scglue.graph.check_graph(guidance, [rna, atac])"
   ]
  },
  {
   "cell_type": "code",
   "execution_count": null,
   "metadata": {},
   "outputs": [],
   "source": [
    "# save the processed data\n",
    "rna.write(\"scrna-pp.h5ad\", compression=\"gzip\")\n",
    "atac.write(\"scatac-pp.h5ad\", compression=\"gzip\")\n",
    "nx.write_graphml(guidance, \"guidance.graphml.gz\")"
   ]
  },
  {
   "cell_type": "markdown",
   "metadata": {},
   "source": [
    "## Train the model"
   ]
  },
  {
   "cell_type": "code",
   "execution_count": null,
   "metadata": {},
   "outputs": [],
   "source": [
    "\n",
    "# Load the processed data\n",
    "rna = sc.read_h5ad(\"scrna-pp.h5ad\")\n",
    "atac = sc.read_h5ad(\"scatac-pp.h5ad\")\n",
    "guidance = nx.read_graphml(\"guidance.graphml.gz\")\n",
    "\n"
   ]
  },
  {
   "cell_type": "code",
   "execution_count": null,
   "metadata": {},
   "outputs": [],
   "source": [
    "# use_batch if the data is from different batches\n",
    "\n",
    "use_batch = \"batch\"\n",
    "cell_type = \"cell_type\"\n",
    "\n",
    "scglue.models.configure_dataset(\n",
    "    rna, \"NB\", use_highly_variable=True,\n",
    "    use_layer=\"counts\", \n",
    "    use_batch = use_batch,\n",
    "    use_rep=\"X_pca\",\n",
    "    use_cell_type = cell_type\n",
    ")\n",
    "\n"
   ]
  },
  {
   "cell_type": "code",
   "execution_count": null,
   "metadata": {},
   "outputs": [],
   "source": [
    "scglue.models.configure_dataset(\n",
    "    atac, \"NB\", use_highly_variable=True,\n",
    "    use_rep=\"X_spectral\"\n",
    ")"
   ]
  },
  {
   "cell_type": "code",
   "execution_count": null,
   "metadata": {},
   "outputs": [],
   "source": [
    "from itertools import chain\n",
    "guidance_hvf = guidance.subgraph(chain(\n",
    "    rna.var.query(\"highly_variable\").index,\n",
    "    atac.var.query(\"highly_variable\").index\n",
    ")).copy()"
   ]
  },
  {
   "cell_type": "code",
   "execution_count": null,
   "metadata": {},
   "outputs": [],
   "source": [
    "glue = scglue.models.fit_SCGLUE(\n",
    "    {\"rna\": rna, \"atac\": atac}, guidance_hvf,\n",
    "    fit_kws={\"directory\": \"glue\"}\n",
    ")"
   ]
  },
  {
   "cell_type": "code",
   "execution_count": null,
   "metadata": {},
   "outputs": [],
   "source": [
    "dx = scglue.models.integration_consistency(\n",
    "    glue, {\"rna\": rna, \"atac\": atac}, guidance_hvf\n",
    ")\n",
    "dx"
   ]
  },
  {
   "cell_type": "code",
   "execution_count": null,
   "metadata": {},
   "outputs": [],
   "source": [
    "# The higher the curve, the more reliable the integration is considered to be. Based on empirical observations, if the curve rises above the 0.05 line, the integration can generally be regarded as reliable.\n",
    "_ = sns.lineplot(x=\"n_meta\", y=\"consistency\", data=dx).axhline(y=0.05, c=\"darkred\", ls=\"--\")"
   ]
  },
  {
   "cell_type": "code",
   "execution_count": null,
   "metadata": {},
   "outputs": [],
   "source": [
    "# Use the encode_data method to project single-cell omics data into the cell embedding space.\n",
    "# The first argument of encode_data specifies the domain to be encoded (i.e., one of the previously defined domain names).\n",
    "# The second argument specifies the dataset to be encoded.\n",
    "# By convention, the resulting cell embeddings are stored in the obsm slot under the name \"X_glue\".\n",
    "\n",
    "rna.obsm[\"X_glue\"] = glue.encode_data(\"rna\", rna)\n",
    "atac.obsm[\"X_glue\"] = glue.encode_data(\"atac\", atac)"
   ]
  },
  {
   "cell_type": "code",
   "execution_count": null,
   "metadata": {},
   "outputs": [],
   "source": [
    "rna.obs['modal'] = \"scRNA-seq\"\n",
    "atac.obs['modal'] = \"scATAC-seq\""
   ]
  },
  {
   "cell_type": "code",
   "execution_count": null,
   "metadata": {},
   "outputs": [],
   "source": [
    "if 'cell_type' not in rna.obs.columns:\n",
    "    print(\"Warning: 'cell_type' column not found in rna.obs\")\n",
    "    print(\"Available columns:\", list(rna.obs.columns))\n",
    "else:\n",
    "    print(\"'cell_type' column found in rna.obs\")\n"
   ]
  },
  {
   "cell_type": "code",
   "execution_count": null,
   "metadata": {},
   "outputs": [],
   "source": [
    "# Set default cell_type for ATAC data\n",
    "if 'cell_type' not in atac.obs.columns:\n",
    "    atac.obs['cell_type'] = \"unknown\"\n",
    "    print(\"Added 'cell_type' column to atac.obs with default value 'unknown'\")\n",
    "else:\n",
    "    print(\"'cell_type' column already exists in atac.obs\")\n"
   ]
  },
  {
   "cell_type": "code",
   "execution_count": null,
   "metadata": {},
   "outputs": [],
   "source": [
    "combined = ad.concat([rna, atac])"
   ]
  },
  {
   "cell_type": "code",
   "execution_count": null,
   "metadata": {},
   "outputs": [],
   "source": [
    "sc.pp.neighbors(combined, use_rep=\"X_glue\", metric=\"cosine\")\n",
    "sc.tl.umap(combined)"
   ]
  },
  {
   "cell_type": "code",
   "execution_count": null,
   "metadata": {},
   "outputs": [],
   "source": [
    "sc.pl.umap(combined, color=[\"cell_type\", \"modal\"], wspace=0.65)"
   ]
  },
  {
   "cell_type": "code",
   "execution_count": null,
   "metadata": {},
   "outputs": [],
   "source": [
    "# save the combined data\n",
    "combined.write(\"combined.h5ad\", compression=\"gzip\")\n"
   ]
  },
  {
   "cell_type": "code",
   "execution_count": null,
   "metadata": {},
   "outputs": [],
   "source": [
    "# get the feature embedding information\n",
    "feature_embeddings = glue.encode_graph(guidance_hvf)\n",
    "feature_embeddings = pd.DataFrame(feature_embeddings, index=glue.vertices)\n",
    "feature_embeddings.iloc[:5, :5]"
   ]
  },
  {
   "cell_type": "code",
   "execution_count": null,
   "metadata": {},
   "outputs": [],
   "source": [
    "rna.varm[\"X_glue\"] = feature_embeddings.reindex(rna.var_names).to_numpy()\n",
    "atac.varm[\"X_glue\"] = feature_embeddings.reindex(atac.var_names).to_numpy()"
   ]
  },
  {
   "cell_type": "code",
   "execution_count": null,
   "metadata": {},
   "outputs": [],
   "source": [
    "# save the result\n",
    "rna.write(\"scrna-emb.h5ad\", compression=\"gzip\")\n",
    "atac.write(\"scatac-emb.h5ad\", compression=\"gzip\")\n",
    "nx.write_graphml(guidance_hvf, \"guidance-hvf.graphml.gz\")"
   ]
  },
  {
   "cell_type": "markdown",
   "metadata": {},
   "source": [
    "## Transfer the scRNA-seq label to scATAC-seq by KNN"
   ]
  },
  {
   "cell_type": "code",
   "execution_count": null,
   "metadata": {},
   "outputs": [],
   "source": [
    "import numpy as np\n",
    "import pandas as pd\n",
    "import scanpy as sc\n",
    "from sklearn.neighbors import NearestNeighbors\n",
    "from collections import Counter\n",
    "\n",
    "\n",
    "adata = sc.read_h5ad('combined.h5ad')\n",
    "\n",
    "# 1) Select reference set (labeled scRNA) and target set (scATAC)\n",
    "rna_mask  = adata.obs['modal'] == 'scRNA-seq'\n",
    "atac_mask = adata.obs['modal'] == 'scATAC-seq'\n",
    "\n",
    "X_rna  = adata.obsm['X_glue'][rna_mask.values, :]   # (N_rna, dim)\n",
    "X_atac = adata.obsm['X_glue'][atac_mask.values, :]  # (N_atac, dim)\n",
    "\n",
    "y_rna = adata.obs.loc[rna_mask, 'cell_type'].values # Known labels\n",
    "\n",
    "# 2) Build KNN index\n",
    "k = 10                                               # Hyperparameter, adjustable\n",
    "nn = NearestNeighbors(n_neighbors=k, metric='euclidean', n_jobs=-1)\n",
    "nn.fit(X_rna)\n",
    "\n",
    "# 3) Query nearest neighbors\n",
    "dists, idx = nn.kneighbors(X_atac)                  # idx shape: (N_atac, k)\n",
    "\n",
    "# 4) Get predicted labels & confidence based on nearest neighbor voting\n",
    "pred_labels = []\n",
    "confidences = []\n",
    "\n",
    "for neigh in idx:\n",
    "    lbls = y_rna[neigh]             # Real cell_type of k nearest neighbors\n",
    "    vote = Counter(lbls).most_common()\n",
    "    pred_labels.append(vote[0][0])  # Label with most votes\n",
    "    confidences.append(vote[0][1] / k)  # Simple confidence = (winning votes/k)\n",
    "\n",
    "# 5) Write back to AnnData\n",
    "adata.obs.loc[atac_mask, 'predicted_cell_type']  = pred_labels\n",
    "adata.obs.loc[atac_mask, 'knn_confidence']       = confidences\n",
    "\n",
    "# 6) Optional: View/save results\n",
    "adata.obs[['modal', 'cell_type', 'predicted_cell_type', 'knn_confidence']].head()\n"
   ]
  },
  {
   "cell_type": "code",
   "execution_count": null,
   "metadata": {},
   "outputs": [],
   "source": [
    "# visualize the results\n",
    "adata_atac = adata[atac_mask]\n",
    "\n",
    "sc.pl.umap(adata_atac, color=['modal', 'predicted_cell_type'])"
   ]
  },
  {
   "cell_type": "code",
   "execution_count": null,
   "metadata": {},
   "outputs": [],
   "source": [
    "# save annotated data\n",
    "adata_atac.obs.to_csv(\"scatac-predicted-cell-type.csv\")\n"
   ]
  }
 ],
 "metadata": {
  "kernelspec": {
   "display_name": "single-cell",
   "language": "python",
   "name": "python3"
  },
  "language_info": {
   "name": "python",
   "version": "3.10.6"
  }
 },
 "nbformat": 4,
 "nbformat_minor": 2
}
