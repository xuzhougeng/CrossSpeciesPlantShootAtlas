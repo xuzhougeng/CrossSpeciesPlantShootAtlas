{
 "cells": [
  {
   "cell_type": "code",
   "execution_count": null,
   "metadata": {},
   "outputs": [],
   "source": [
    "import pandas as pd\n",
    "import scanpy as sc\n",
    "import pyranges as pr\n",
    "import scglue\n",
    "import snapatac2 as snap\n",
    "import re\n",
    "import numpy as np"
   ]
  },
  {
   "cell_type": "markdown",
   "metadata": {},
   "source": [
    "## Load celltype annotation"
   ]
  },
  {
   "cell_type": "code",
   "execution_count": null,
   "metadata": {},
   "outputs": [],
   "source": [
    "# Load Annotation\n",
    "anno = pd.read_csv(\"scatac-predicted-cell-type.csv\", index_col=0)\n",
    "map_dict = dict(zip(anno.index, anno.cell_type))"
   ]
  },
  {
   "cell_type": "markdown",
   "metadata": {},
   "source": [
    "## Accessibility Analysis of Foundation Genes\n",
    "\n",
    "We evaluated the accessibility of predefined foundation genes using Gene Activity scores. The ability of these genes to distinguish a target cell type was assessed using the area under the ROC curve (AUC).\n",
    "\n",
    "1. Gene activity scores were calculated with `sc.tl.score_genes`.\n",
    "2. AUC was computed using `roc_auc_score` based on binary cell type labels.\n",
    "3. Statistical significance was estimated via 1,000 random permutations, generating a null AUC distribution to compute a p-value and Z-score.\n",
    "\n",
    "**Example Output:**\n",
    "\n",
    "```\n",
    "AUC(real) = 0.842  \n",
    "p_perm    = 0.001  \n",
    "Z-score   = 3.27\n",
    "```\n",
    "\n",
    "These results indicate that the foundation genes show significantly higher accessibility in the target cell type.\n"
   ]
  },
  {
   "cell_type": "code",
   "execution_count": null,
   "metadata": {},
   "outputs": [],
   "source": [
    "import numpy as np\n",
    "from sklearn.metrics import roc_auc_score\n",
    "from joblib import Parallel, delayed\n",
    "from scipy.sparse import issparse\n",
    "\n",
    "def compute_auc_distribution(\n",
    "    X, var_names, labels, gene_pool, my_gene_count, n_perm=1000, n_jobs=-1, seed=None\n",
    "):\n",
    "    \"\"\"\n",
    "    Compute null distribution of AUCs using random gene sets.\n",
    "\n",
    "    Parameters:\n",
    "    - X: gene expression matrix (cells x genes), sparse or dense\n",
    "    - var_names: list of gene names (len == X.shape[1])\n",
    "    - labels: binary array (1 = target cell type, 0 = others)\n",
    "    - gene_pool: list of gene names to sample from\n",
    "    - my_gene_count: number of genes per random sample\n",
    "    - n_perm: number of permutations\n",
    "    - n_jobs: parallel jobs (use -1 for all cores)\n",
    "    - seed: random seed (optional)\n",
    "\n",
    "    Returns:\n",
    "    - auc_null: array of AUCs from random gene sets\n",
    "    \"\"\"\n",
    "    if issparse(X):\n",
    "        X = X.toarray()\n",
    "\n",
    "    rng = np.random.default_rng(seed)\n",
    "    gene_idx_dict = {g: i for i, g in enumerate(var_names)}\n",
    "\n",
    "    def single_perm(_):\n",
    "        rnd_genes = rng.choice(gene_pool, my_gene_count, replace=False)\n",
    "        idxs = [gene_idx_dict[g] for g in rnd_genes]\n",
    "        mean_expr = X[:, idxs].mean(axis=1)\n",
    "        return roc_auc_score(labels, mean_expr)\n",
    "\n",
    "    auc_null = Parallel(n_jobs=n_jobs)(\n",
    "        delayed(single_perm)(i) for i in range(n_perm)\n",
    "    )\n",
    "    return np.array(auc_null)\n"
   ]
  },
  {
   "cell_type": "code",
   "execution_count": null,
   "metadata": {},
   "outputs": [],
   "source": [
    "gene_matrix = sc.read_h5ad(\"gene_mat.h5ad\")\n",
    "gene_matrix.obs['cell_type'] = gene_matrix.obs_names.map(map_dict)"
   ]
  },
  {
   "cell_type": "code",
   "execution_count": null,
   "metadata": {},
   "outputs": [],
   "source": [
    "my_genes = [] # Foundational genes\n",
    "target_cell_type = \"\" # Target cell type"
   ]
  },
  {
   "cell_type": "code",
   "execution_count": null,
   "metadata": {},
   "outputs": [],
   "source": [
    "labels   = (gene_matrix.obs['cell_type'] == target_cell_type).astype(int).values # 1=A, 0=其他"
   ]
  },
  {
   "cell_type": "code",
   "execution_count": null,
   "metadata": {},
   "outputs": [],
   "source": [
    "# analyze the discriminative ability of the scores calculated for the given genes\n",
    "sc.tl.score_genes(gene_matrix, my_genes, score_name='my_score', ctrl_as_ref=False)\n",
    "auc_true = roc_auc_score(labels, gene_matrix.obs['my_score'])"
   ]
  },
  {
   "cell_type": "code",
   "execution_count": null,
   "metadata": {},
   "outputs": [],
   "source": [
    "import scanpy as sc\n",
    "\n",
    "X = gene_matrix.X\n",
    "var_names = gene_matrix.var_names.tolist()\n",
    "gene_pool = [g for g in var_names if g not in my_genes]  # Optional: avoid drawing the selected genes\n",
    "\n",
    "auc_null = compute_auc_distribution(\n",
    "    X=X,\n",
    "    var_names=var_names,\n",
    "    labels=labels,\n",
    "    gene_pool=gene_pool,\n",
    "    my_gene_count=len(my_genes),\n",
    "    n_perm=1000,\n",
    "    n_jobs=1,\n",
    "    seed=42\n",
    ")\n"
   ]
  },
  {
   "cell_type": "code",
   "execution_count": null,
   "metadata": {},
   "outputs": [],
   "source": [
    "p_value = (np.sum(auc_null >= auc_true) + 1) / (1000 + 1)  # Right-tailed test\n",
    "z_score = (auc_true - auc_null.mean()) / auc_null.std()\n",
    "print(f\"AUC(real) = {auc_true:.3f}\")\n",
    "print(f\"p_perm     = {p_value:.4g}\")\n",
    "print(f\"Z-score    = {z_score:.2f}\")\n"
   ]
  },
  {
   "cell_type": "code",
   "execution_count": null,
   "metadata": {},
   "outputs": [],
   "source": [
    "import seaborn as sns\n",
    "import matplotlib.pyplot as plt\n",
    "\n",
    "plt.figure(figsize=(6,4))\n",
    "sns.kdeplot(auc_null, fill=True, alpha=0.6, label='Random gene sets')\n",
    "plt.axvline(auc_true, color='red', lw=2, ls='--', label='Foundational gene sets')\n",
    "plt.xlabel(f'AUC (target cell type vs others)')\n",
    "plt.title('Smoothed distribution of AUC from random gene sets')\n",
    "plt.legend()\n",
    "plt.text(0.7, 0.8, f\"p = {p_value:.4g}\", transform=plt.gca().transAxes)\n",
    "plt.tight_layout()\n",
    "plt.show()\n"
   ]
  },
  {
   "cell_type": "markdown",
   "metadata": {},
   "source": [
    "## Export coverage\n",
    "\n",
    "Export the coverage in bigwig for IGV\n"
   ]
  },
  {
   "cell_type": "code",
   "execution_count": null,
   "metadata": {},
   "outputs": [],
   "source": [
    "data = snap.read(\"scatac\")"
   ]
  },
  {
   "cell_type": "code",
   "execution_count": null,
   "metadata": {},
   "outputs": [],
   "source": [
    "data.obs['cell_type'] = [map_dict[x] for x in data.obs_names]"
   ]
  },
  {
   "cell_type": "code",
   "execution_count": null,
   "metadata": {},
   "outputs": [],
   "source": [
    "snap.ex.export_coverage(data, groupby='cell_type', out_dir=\"igv\", suffix='.bw')\n"
   ]
  },
  {
   "cell_type": "markdown",
   "metadata": {},
   "source": [
    "## Add peak annotation "
   ]
  },
  {
   "cell_type": "code",
   "execution_count": null,
   "metadata": {},
   "outputs": [],
   "source": [
    "atac = sc.read_h5ad(\"scatac-pp.h5ad\")\n",
    "atac.obs['cell_type'] = atac.obs_names.map(map_dict)"
   ]
  },
  {
   "cell_type": "code",
   "execution_count": null,
   "metadata": {},
   "outputs": [],
   "source": [
    "\n",
    "##############################################\n",
    "# 1. Process gene annotation GTF - extract TSS\n",
    "##############################################\n",
    "# Only keep features labeled as \"gene\"\n",
    "gtf = scglue.genomics.read_gtf(\"at_genes.gtf.gz\").query(\"feature == 'gene'\").split_attribute()\n",
    "genes = gtf.query(\"feature == 'gene'\").copy()\n",
    "\n",
    "# Parse gene_name from attribute field if not already present\n",
    "def parse_gene_name(attr):\n",
    "    m = re.search(r'gene_name \"([^\"]+)\"', attr)\n",
    "    return m.group(1) if m else np.nan\n",
    "\n",
    "if \"gene_name\" not in genes.columns:\n",
    "    genes[\"gene_name\"] = genes[\"attribute\"].apply(parse_gene_name)\n",
    "\n",
    "# Calculate TSS: for + strand use start, for - strand use end-1 (0-based closed interval)\n",
    "genes[\"tss_start\"] = np.where(genes[\"strand\"] == \"+\", genes[\"start\"], genes[\"end\"] - 1)\n",
    "genes[\"tss_end\"] = genes[\"tss_start\"] + 1   # 1 bp for interval operations\n",
    "\n",
    "# Create PyRanges object for genes with TSS information\n",
    "genes_pr = pr.PyRanges(pd.DataFrame({\n",
    "    \"Chromosome\": genes[\"seqname\"],\n",
    "    \"Start\": genes[\"tss_start\"],\n",
    "    \"End\": genes[\"tss_end\"],\n",
    "    \"Strand\": genes[\"strand\"],\n",
    "    \"gene_id\": genes[\"gene_id\"],\n",
    "    \"gene_name\": genes[\"gene_name\"],\n",
    "}))"
   ]
  },
  {
   "cell_type": "code",
   "execution_count": null,
   "metadata": {},
   "outputs": [],
   "source": [
    "\n",
    "##############################################\n",
    "# 2. Process ATAC peaks - convert to intervals\n",
    "##############################################\n",
    "# Create PyRanges object for ATAC peaks\n",
    "peaks_pr = pr.PyRanges(\n",
    "    pd.DataFrame({\n",
    "    'Chromosome': atac.var.chrom,\n",
    "    'Start': atac.var.chromStart,\n",
    "    'End': atac.var.chromEnd,\n",
    "    'peak_id': atac.var_names\n",
    "    })\n",
    ")\n"
   ]
  },
  {
   "cell_type": "code",
   "execution_count": null,
   "metadata": {},
   "outputs": [],
   "source": [
    "\n",
    "##############################################\n",
    "# 3. Find nearest TSS & calculate distances  \n",
    "##############################################\n",
    "# Find nearest gene TSS for each peak\n",
    "nearest = peaks_pr.nearest(\n",
    "    genes_pr,\n",
    "    suffix=\"_gene\",       # Add suffix to gene columns\n",
    ")\n",
    "\n",
    "# Rename distance column\n",
    "ndf = nearest.df.rename(columns={\"Distance\": \"abs_dist\"})\n",
    "\n",
    "# Automatically find the strand column\n",
    "strand_col = \"Strand_gene\" if \"Strand_gene\" in ndf.columns else \"Strand\"\n",
    "\n",
    "# Calculate signed distance (positive if peak is downstream of TSS, negative if upstream)\n",
    "peak_center = ((ndf.End + ndf.Start) // 2).astype(int)\n",
    "ndf[\"signed_dist\"] = np.where(\n",
    "    ndf[strand_col] == \"+\",\n",
    "    peak_center - ndf.Start_gene,\n",
    "    ndf.Start_gene - peak_center\n",
    ")\n",
    "\n"
   ]
  },
  {
   "cell_type": "code",
   "execution_count": null,
   "metadata": {},
   "outputs": [],
   "source": [
    "# Extract annotation columns\n",
    "anno_cols = ndf[[\"peak_id\", \"gene_id\", \"gene_name\",\n",
    "                 \"tss_strand\" if \"tss_strand\" in ndf.columns else strand_col,\n",
    "                 \"abs_dist\", \"signed_dist\"]].set_index(\"peak_id\")\n",
    "\n",
    "\n",
    "\n",
    "# Add nearest gene information to ATAC object\n",
    "atac.var = atac.var.join(anno_cols, how=\"left\").rename(columns={\n",
    "    \"gene_id\": \"nearest_gene_id\",\n",
    "    \"gene_name\": \"nearest_gene_name\",\n",
    "    strand_col: \"tss_strand\"\n",
    "})"
   ]
  }
 ],
 "metadata": {
  "kernelspec": {
   "display_name": "single-cell",
   "language": "python",
   "name": "python3"
  },
  "language_info": {
   "codemirror_mode": {
    "name": "ipython",
    "version": 3
   },
   "file_extension": ".py",
   "mimetype": "text/x-python",
   "name": "python",
   "nbconvert_exporter": "python",
   "pygments_lexer": "ipython3",
   "version": "3.10.6"
  }
 },
 "nbformat": 4,
 "nbformat_minor": 2
}
