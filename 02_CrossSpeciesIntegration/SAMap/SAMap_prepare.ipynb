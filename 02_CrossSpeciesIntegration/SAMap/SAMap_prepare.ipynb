{
 "cells": [
  {
   "cell_type": "code",
   "execution_count": 1,
   "metadata": {},
   "outputs": [
    {
     "name": "stderr",
     "output_type": "stream",
     "text": [
      "/data1/xhc_data/micromamba/envs/SAMap/lib/python3.9/site-packages/tqdm/auto.py:21: TqdmWarning: IProgress not found. Please update jupyter and ipywidgets. See https://ipywidgets.readthedocs.io/en/stable/user_install.html\n",
      "  from .autonotebook import tqdm as notebook_tqdm\n"
     ]
    }
   ],
   "source": [
    "# 提前设置，因为数据太大，python会崩溃\n",
    "# 适当降低，如果更大\n",
    "import os\n",
    "# 在其他需要OpenBLAS的库导入前设置\n",
    "os.environ[\"OPENBLAS_NUM_THREADS\"] = \"4\"\n",
    "\n",
    "from samap.mapping import SAMAP\n",
    "from samap.analysis import (get_mapping_scores, GenePairFinder,\n",
    "                            sankey_plot, chord_plot, CellTypeTriangles, \n",
    "                            ParalogSubstitutions, FunctionalEnrichment,\n",
    "                            convert_eggnog_to_homologs, GeneTriangles)\n",
    "from samalg import SAM\n",
    "import pandas as pd\n",
    "import scanpy as sc\n",
    "import numpy as np\n",
    "import matplotlib.pyplot as plt\n",
    "import seaborn as sns\n",
    "import scanpy.external as sce\n",
    "from samalg import SAM #import SAM"
   ]
  },
  {
   "cell_type": "markdown",
   "metadata": {},
   "source": [
    "# 数据预处理\n",
    "\n",
    "为后续的整合分析做准备。\n",
    "\n",
    "**species1**: \n",
    "\n",
    "- data/h5ad/sp1.h5ad\n",
    "- data/pep/sp1.pep\n",
    "\n",
    "**species2**: \n",
    "\n",
    "- data/h5ad/sp2.h5ad\n",
    "- data/pep/sp2.pep\n"
   ]
  },
  {
   "cell_type": "code",
   "execution_count": 20,
   "metadata": {},
   "outputs": [],
   "source": [
    "# 提前设置，因为数据太大，python会崩溃\n",
    "# 适当降低，如果更大\n",
    "import os\n",
    "# 在其他需要OpenBLAS的库导入前设置\n",
    "os.environ[\"OPENBLAS_NUM_THREADS\"] = \"5\""
   ]
  },
  {
   "cell_type": "code",
   "execution_count": 7,
   "metadata": {},
   "outputs": [
    {
     "name": "stdout",
     "output_type": "stream",
     "text": [
      "RUNNING SAM\n",
      "Iteration: 0, Convergence: 1.0\n",
      "Iteration: 1, Convergence: 0.879694856071924\n",
      "Computing the UMAP embedding...\n"
     ]
    },
    {
     "name": "stderr",
     "output_type": "stream",
     "text": [
      "/data1/xhc_data/micromamba/envs/SAMap/lib/python3.9/site-packages/umap/umap_.py:1945: UserWarning: n_jobs value 1 overridden to 1 by setting random_state. Use no seed for parallelism.\n",
      "  warn(f\"n_jobs value {self.n_jobs} overridden to 1 by setting random_state. Use no seed for parallelism.\")\n"
     ]
    },
    {
     "name": "stdout",
     "output_type": "stream",
     "text": [
      "Elapsed time: 25.771304607391357 seconds\n"
     ]
    }
   ],
   "source": [
    "# 如果只有一个样本，或者没有批次，运行下面\n",
    "\n",
    "fn = 'data/h5ad/mt.h5ad'\n",
    "sam = SAM()\n",
    "sam.load_data(fn)\n",
    "sam.preprocess_data() # log transforms and filters the data\n",
    "sam.run( ) # run SAM with harmonization\n",
    "sam.save(\"result/mt\")"
   ]
  },
  {
   "cell_type": "code",
   "execution_count": 10,
   "metadata": {},
   "outputs": [
    {
     "name": "stdout",
     "output_type": "stream",
     "text": [
      "RUNNING SAM\n",
      "Iteration: 0, Convergence: 1.0\n"
     ]
    },
    {
     "name": "stderr",
     "output_type": "stream",
     "text": [
      "2024-08-11 20:48:26,907 - harmonypy - INFO - Computing initial centroids with sklearn.KMeans...\n",
      "2024-08-11 20:48:30,086 - harmonypy - INFO - sklearn.KMeans initialization complete.\n"
     ]
    },
    {
     "name": "stdout",
     "output_type": "stream",
     "text": [
      "Iteration: 1, Convergence: 0.8295859012797554\n"
     ]
    },
    {
     "name": "stderr",
     "output_type": "stream",
     "text": [
      "2024-08-11 20:49:16,205 - harmonypy - INFO - Computing initial centroids with sklearn.KMeans...\n",
      "2024-08-11 20:49:18,864 - harmonypy - INFO - sklearn.KMeans initialization complete.\n"
     ]
    },
    {
     "name": "stdout",
     "output_type": "stream",
     "text": [
      "Iteration: 2, Convergence: 0.01099867345569396\n"
     ]
    },
    {
     "name": "stderr",
     "output_type": "stream",
     "text": [
      "2024-08-11 20:50:05,065 - harmonypy - INFO - Computing initial centroids with sklearn.KMeans...\n",
      "2024-08-11 20:50:07,782 - harmonypy - INFO - sklearn.KMeans initialization complete.\n"
     ]
    },
    {
     "name": "stdout",
     "output_type": "stream",
     "text": [
      "Computing the UMAP embedding...\n"
     ]
    },
    {
     "name": "stderr",
     "output_type": "stream",
     "text": [
      "/data1/xhc_data/micromamba/envs/SAMap/lib/python3.9/site-packages/umap/umap_.py:1945: UserWarning: n_jobs value 1 overridden to 1 by setting random_state. Use no seed for parallelism.\n",
      "  warn(f\"n_jobs value {self.n_jobs} overridden to 1 by setting random_state. Use no seed for parallelism.\")\n"
     ]
    },
    {
     "name": "stdout",
     "output_type": "stream",
     "text": [
      "Elapsed time: 151.86182379722595 seconds\n"
     ]
    }
   ],
   "source": [
    "# 如果多个样本，存在批次，运行下面代码。 注意修改batch_key\n",
    "# batch_key对应 Seurat种harmony的batch\n",
    "\n",
    "fn = 'data/h5ad/bmg.h5ad'\n",
    "sam = SAM()\n",
    "sam.load_data(fn)\n",
    "sam.preprocess_data() # log transforms and filters the data\n",
    "sam.run(batch_key = \"orig.ident\") # run SAM with harmonization\n",
    "sam.save(\"result/bmg\")"
   ]
  },
  {
   "cell_type": "code",
   "execution_count": 19,
   "metadata": {},
   "outputs": [],
   "source": [
    "import scanpy as sc"
   ]
  },
  {
   "cell_type": "code",
   "execution_count": 19,
   "metadata": {},
   "outputs": [],
   "source": [
    "# 加载已经处理的SAM\n",
    "from samap.mapping import SAMAP\n",
    "from samalg import SAM\n",
    "\n",
    "sam1 = SAM()\n",
    "sam1.load(\"./result/at_pct20.pkl\")"
   ]
  },
  {
   "cell_type": "code",
   "execution_count": 20,
   "metadata": {},
   "outputs": [],
   "source": [
    "adata = sam1.adata"
   ]
  },
  {
   "cell_type": "code",
   "execution_count": 21,
   "metadata": {},
   "outputs": [
    {
     "data": {
      "text/html": [
       "<div>\n",
       "<style scoped>\n",
       "    .dataframe tbody tr th:only-of-type {\n",
       "        vertical-align: middle;\n",
       "    }\n",
       "\n",
       "    .dataframe tbody tr th {\n",
       "        vertical-align: top;\n",
       "    }\n",
       "\n",
       "    .dataframe thead th {\n",
       "        text-align: right;\n",
       "    }\n",
       "</style>\n",
       "<table border=\"1\" class=\"dataframe\">\n",
       "  <thead>\n",
       "    <tr style=\"text-align: right;\">\n",
       "      <th></th>\n",
       "      <th>orig.ident</th>\n",
       "      <th>nCount_RNA</th>\n",
       "      <th>nFeature_RNA</th>\n",
       "      <th>seurat_high</th>\n",
       "      <th>seurat_middle</th>\n",
       "      <th>seurat_clusters</th>\n",
       "      <th>cell_type</th>\n",
       "    </tr>\n",
       "  </thead>\n",
       "  <tbody>\n",
       "    <tr>\n",
       "      <th>AGATTGCAGATAGGAG_15</th>\n",
       "      <td>dc1</td>\n",
       "      <td>67273</td>\n",
       "      <td>8730</td>\n",
       "      <td>Atrichoblast</td>\n",
       "      <td>Atrichoblast</td>\n",
       "      <td>36</td>\n",
       "      <td>Atrichoblast</td>\n",
       "    </tr>\n",
       "    <tr>\n",
       "      <th>ACTCTCGTCGGTGAAG_8</th>\n",
       "      <td>sc_9_at</td>\n",
       "      <td>28778</td>\n",
       "      <td>5366</td>\n",
       "      <td>Atrichoblast</td>\n",
       "      <td>Atrichoblast</td>\n",
       "      <td>50</td>\n",
       "      <td>Atrichoblast</td>\n",
       "    </tr>\n",
       "    <tr>\n",
       "      <th>ATCGATGAGGTGGCTA_10</th>\n",
       "      <td>sc_1</td>\n",
       "      <td>1969</td>\n",
       "      <td>863</td>\n",
       "      <td>Atrichoblast</td>\n",
       "      <td>Atrichoblast</td>\n",
       "      <td>9</td>\n",
       "      <td>Atrichoblast</td>\n",
       "    </tr>\n",
       "    <tr>\n",
       "      <th>GCTGCTTGTCGGCATC_14</th>\n",
       "      <td>pp1</td>\n",
       "      <td>9520</td>\n",
       "      <td>2615</td>\n",
       "      <td>Atrichoblast</td>\n",
       "      <td>Atrichoblast</td>\n",
       "      <td>27</td>\n",
       "      <td>Atrichoblast</td>\n",
       "    </tr>\n",
       "    <tr>\n",
       "      <th>CCTAAGATCTCTGCTG_9</th>\n",
       "      <td>sc_10_at</td>\n",
       "      <td>8701</td>\n",
       "      <td>2510</td>\n",
       "      <td>Atrichoblast</td>\n",
       "      <td>Atrichoblast</td>\n",
       "      <td>9</td>\n",
       "      <td>Atrichoblast</td>\n",
       "    </tr>\n",
       "  </tbody>\n",
       "</table>\n",
       "</div>"
      ],
      "text/plain": [
       "                    orig.ident  nCount_RNA  nFeature_RNA   seurat_high  \\\n",
       "AGATTGCAGATAGGAG_15        dc1       67273          8730  Atrichoblast   \n",
       "ACTCTCGTCGGTGAAG_8     sc_9_at       28778          5366  Atrichoblast   \n",
       "ATCGATGAGGTGGCTA_10       sc_1        1969           863  Atrichoblast   \n",
       "GCTGCTTGTCGGCATC_14        pp1        9520          2615  Atrichoblast   \n",
       "CCTAAGATCTCTGCTG_9    sc_10_at        8701          2510  Atrichoblast   \n",
       "\n",
       "                    seurat_middle  seurat_clusters     cell_type  \n",
       "AGATTGCAGATAGGAG_15  Atrichoblast               36  Atrichoblast  \n",
       "ACTCTCGTCGGTGAAG_8   Atrichoblast               50  Atrichoblast  \n",
       "ATCGATGAGGTGGCTA_10  Atrichoblast                9  Atrichoblast  \n",
       "GCTGCTTGTCGGCATC_14  Atrichoblast               27  Atrichoblast  \n",
       "CCTAAGATCTCTGCTG_9   Atrichoblast                9  Atrichoblast  "
      ]
     },
     "execution_count": 21,
     "metadata": {},
     "output_type": "execute_result"
    }
   ],
   "source": [
    "adata.obs.head()"
   ]
  },
  {
   "cell_type": "code",
   "execution_count": null,
   "metadata": {},
   "outputs": [],
   "source": [
    "sc.pl.umap(adata, color=['seurat_high'])"
   ]
  },
  {
   "cell_type": "code",
   "execution_count": 21,
   "metadata": {},
   "outputs": [],
   "source": [
    "adata.write_h5ad(\"./at_pt25.h5ad\")"
   ]
  }
 ],
 "metadata": {
  "kernelspec": {
   "display_name": "Python 3",
   "language": "python",
   "name": "python3"
  },
  "language_info": {
   "codemirror_mode": {
    "name": "ipython",
    "version": 3
   },
   "file_extension": ".py",
   "mimetype": "text/x-python",
   "name": "python",
   "nbconvert_exporter": "python",
   "pygments_lexer": "ipython3",
   "version": "3.9.19"
  }
 },
 "nbformat": 4,
 "nbformat_minor": 2
}
