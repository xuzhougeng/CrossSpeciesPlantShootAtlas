{
 "cells": [
  {
   "cell_type": "markdown",
   "metadata": {
    "vscode": {
     "languageId": "plaintext"
    }
   },
   "source": [
    "# Regulatory Inference\n",
    "\n",
    "Regulatory inference based on GLUE is used to identify the important cis - regulatory regions (ATAC peaks) for each gene. "
   ]
  },
  {
   "cell_type": "code",
   "execution_count": null,
   "metadata": {},
   "outputs": [],
   "source": [
    "import scanpy as sc\n",
    "import networkx as nx\n",
    "import numpy as np\n",
    "import pandas as pd\n",
    "import scglue\n",
    "\n",
    "import snapatac2 as snap"
   ]
  },
  {
   "cell_type": "code",
   "execution_count": null,
   "metadata": {},
   "outputs": [],
   "source": [
    "# load the data\n",
    "rna = sc.read_h5ad(\"scrna-emb.h5ad\", compression=\"gzip\")\n",
    "atac = sc.read_h5ad(\"scatac-emb.h5ad\", compression=\"gzip\")\n",
    "guidance_hvf = nx.read_graphml(\"guidance-hvf.graphml.gz\")"
   ]
  },
  {
   "cell_type": "code",
   "execution_count": null,
   "metadata": {},
   "outputs": [],
   "source": [
    "# highly variable genes and peaks\n",
    "genes = rna.var.query(\"highly_variable\").index\n",
    "peaks = atac.var.query(\"highly_variable\").index"
   ]
  },
  {
   "cell_type": "code",
   "execution_count": null,
   "metadata": {},
   "outputs": [],
   "source": [
    "# Perform cis-regulatory inference using GLUE feature embeddings.\n",
    "# Merge the feature indices and embeddings from the two modalities.\n",
    "\n",
    "features = pd.Index(np.concatenate([rna.var_names, atac.var_names]))\n",
    "feature_embeddings = np.concatenate([rna.varm[\"X_glue\"], atac.varm[\"X_glue\"]])"
   ]
  },
  {
   "cell_type": "code",
   "execution_count": null,
   "metadata": {},
   "outputs": [],
   "source": [
    "# Extract the \"skeleton\" graph and perform regulatory inference based on it. The role of the skeleton graph is to limit the search space for potential regulatory pairs, \n",
    "# which helps to reduce false - positives caused by spurious correlations. \n",
    "skeleton = guidance_hvf.edge_subgraph(\n",
    "    e for e, attr in dict(guidance_hvf.edges).items()\n",
    "    if attr[\"type\"] == \"fwd\"\n",
    ").copy()"
   ]
  },
  {
   "cell_type": "code",
   "execution_count": null,
   "metadata": {},
   "outputs": [],
   "source": [
    "# Perform regulatory inference using the scglue.genomics.regulatory_inference function. This function takes feature indices and embeddings as inputs, as well as the skeleton graph generated above. \n",
    "reginf = scglue.genomics.regulatory_inference(\n",
    "    features, feature_embeddings,\n",
    "    skeleton=skeleton, random_state=0\n",
    ")"
   ]
  },
  {
   "cell_type": "code",
   "execution_count": null,
   "metadata": {},
   "outputs": [],
   "source": [
    "# Important regulatory relationships can be extracted based on edge attributes (Q - value less than 0.05).\n",
    "gene2peak = reginf.edge_subgraph(\n",
    "    e for e, attr in dict(reginf.edges).items()\n",
    "    if attr[\"qval\"] < 0.05\n",
    ")"
   ]
  },
  {
   "cell_type": "code",
   "execution_count": null,
   "metadata": {},
   "outputs": [],
   "source": [
    "# Save the gene and peak correspondence.\n",
    "\n",
    "link_file = 'gene2peak.links'\n",
    "scglue.genomics.write_links(\n",
    "    gene2peak,\n",
    "    scglue.genomics.Bed(rna.var).strand_specific_start_site(),\n",
    "    scglue.genomics.Bed(atac.var),\n",
    "    link_file, keep_attrs=[\"score\"]\n",
    ")\n"
   ]
  },
  {
   "cell_type": "markdown",
   "metadata": {},
   "source": [
    "## Construct a TF-gene regulatory network based on the inferred cis-regulatory regions.\n",
    "\n",
    "Note: In this tutorial, the guidance graph is constructed solely based on genomic overlaps (see Stage 1), so the inferred regulatory links are limited to proximal promoters and gene body regions.\n",
    "In practical analyses, it is beneficial to expand the genomic range (e.g., using a distance-decay weighting within 150 kb around the TSS) or incorporate additional information such as Hi-C or eQTL data (see our case study for reference)."
   ]
  },
  {
   "cell_type": "code",
   "execution_count": null,
   "metadata": {},
   "outputs": [],
   "source": [
    "# CISBP binding site predicted by FIMO\n",
    "motif_bed = scglue.genomics.read_bed(\"ath_cisbp_all.bed\") "
   ]
  },
  {
   "cell_type": "code",
   "execution_count": null,
   "metadata": {},
   "outputs": [],
   "source": [
    "\n",
    "# convert geneid to symbol or vice versa\n",
    "symbol2gene = dict()\n",
    "gene2symbol = dict()\n",
    "with open(\"./gene2symbol.txt\") as f:\n",
    "    for line in f:\n",
    "        gene_id, symbol = line.strip().split(\"\\t\")\n",
    "        symbol2gene[symbol] = gene_id\n",
    "        gene2symbol[gene_id] = symbol"
   ]
  },
  {
   "cell_type": "code",
   "execution_count": null,
   "metadata": {},
   "outputs": [],
   "source": [
    "motif_bed['name'] = motif_bed['name'].map(symbol2gene)"
   ]
  },
  {
   "cell_type": "code",
   "execution_count": null,
   "metadata": {},
   "outputs": [],
   "source": [
    "# select expressed TF\n",
    "tfs = pd.Index(motif_bed[\"name\"]).intersection(rna.var_names)\n",
    "tfs.size\n",
    "\n",
    "np.savetxt(\"tfs.txt\", tfs, fmt=\"%s\")"
   ]
  },
  {
   "cell_type": "code",
   "execution_count": null,
   "metadata": {},
   "outputs": [],
   "source": [
    "# pip install loompy\n",
    "rna.obs['cells'] = rna.obs_names\n",
    "\n",
    "# only save HVG + TF to loom\n",
    "rna[:, np.union1d(genes, tfs)].write_loom(\"rna.loom\")\n"
   ]
  },
  {
   "cell_type": "code",
   "execution_count": null,
   "metadata": {},
   "outputs": [],
   "source": [
    "# --gene_attribute : adata.var that store gene name\n",
    "# --cell_id_attribute : adata.obs that store cell_id\n",
    "!conda run -n pyscenic pyscenic grn rna.loom tfs.txt \\\n",
    "    -o draft_grn.csv --seed 0 --num_workers 20 \\\n",
    "    --cell_id_attribute cells --gene_attribute name"
   ]
  },
  {
   "cell_type": "code",
   "execution_count": null,
   "metadata": {},
   "outputs": [],
   "source": [
    "# Use the scglue.genomics.window_graph function to scan the genome and link ATAC peaks to TF motifs based on genomic overlap.\n",
    "\n",
    "peak_bed = scglue.genomics.Bed(atac.var.loc[peaks])\n",
    "peak2tf = scglue.genomics.window_graph(peak_bed, motif_bed, 0, right_sorted=True)\n",
    "peak2tf = peak2tf.edge_subgraph(e for e in peak2tf.edges if e[1] in tfs)"
   ]
  },
  {
   "cell_type": "code",
   "execution_count": null,
   "metadata": {},
   "outputs": [],
   "source": [
    "# Specifically, we can use the scglue.genomics.cis_regulatory_ranking function to merge gene–peak and peak–TF links into gene–TF cis-regulatory rankings.\n",
    "# Since each gene can be associated with a varying number and length of ATAC peaks, the aggregated gene–peak–TF connections are not directly comparable.\n",
    "# Therefore, this function compares the observed connections with randomly sampled ones (stratified by peak length) to assess enrichment, which is then used to rank target genes for each TF.\n",
    "\n",
    "gene2tf_rank_glue = scglue.genomics.cis_regulatory_ranking(\n",
    "    gene2peak, peak2tf, genes, peaks, tfs,\n",
    "    region_lens=atac.var.loc[peaks, \"chromEnd\"] - atac.var.loc[peaks, \"chromStart\"],\n",
    "    random_state=0\n",
    ")\n",
    "gene2tf_rank_glue.iloc[:5, :5]"
   ]
  },
  {
   "cell_type": "code",
   "execution_count": null,
   "metadata": {},
   "outputs": [],
   "source": [
    "# Generate TF cis-regulatory rankings using proximal promoters (optional)\n",
    "# This is similar to the initial approach used in pySCENIC, where regions are extended 500 bp upstream and downstream of the TSS.\n",
    "\n",
    "flank_bed = scglue.genomics.Bed(rna.var.loc[genes]).strand_specific_start_site().expand(1000, 500)\n",
    "flank2tf = scglue.genomics.window_graph(flank_bed, motif_bed, 0, right_sorted=True)"
   ]
  },
  {
   "cell_type": "code",
   "execution_count": null,
   "metadata": {},
   "outputs": [],
   "source": [
    "gene2flank = nx.Graph([(g, g) for g in genes])\n",
    "gene2tf_rank_supp = scglue.genomics.cis_regulatory_ranking(\n",
    "    gene2flank, flank2tf, genes, genes, tfs,\n",
    "    n_samples=0\n",
    ")\n",
    "gene2tf_rank_supp.iloc[:5, :5]"
   ]
  },
  {
   "cell_type": "code",
   "execution_count": null,
   "metadata": {},
   "outputs": [],
   "source": [
    "gene2tf_rank_glue.columns = gene2tf_rank_glue.columns + \"_glue\"\n",
    "gene2tf_rank_supp.columns = gene2tf_rank_supp.columns + \"_supp\""
   ]
  },
  {
   "cell_type": "code",
   "execution_count": null,
   "metadata": {},
   "outputs": [],
   "source": [
    "scglue.genomics.write_scenic_feather(gene2tf_rank_glue, \"glue.genes_vs_tracks.rankings.feather\")\n",
    "scglue.genomics.write_scenic_feather(gene2tf_rank_supp, \"supp.genes_vs_tracks.rankings.feather\")"
   ]
  },
  {
   "cell_type": "code",
   "execution_count": null,
   "metadata": {},
   "outputs": [],
   "source": [
    "pd.concat([\n",
    "    pd.DataFrame({\n",
    "        \"#motif_id\": tfs + \"_glue\",\n",
    "        \"gene_name\": tfs\n",
    "    }),\n",
    "    pd.DataFrame({\n",
    "        \"#motif_id\": tfs + \"_supp\",\n",
    "        \"gene_name\": tfs\n",
    "    })\n",
    "]).assign(\n",
    "    motif_similarity_qvalue=0.0,\n",
    "    orthologous_identity=1.0,\n",
    "    description=\"placeholder\"\n",
    ").to_csv(\"ctx_annotation.tsv\", sep=\"\\t\", index=False)"
   ]
  },
  {
   "cell_type": "code",
   "execution_count": null,
   "metadata": {},
   "outputs": [],
   "source": [
    "# --gene_attribute : adata.var that store gene name\n",
    "# --cell_id_attribute : adata.obs that store cell_id\n",
    "\n",
    "\n",
    "!conda run -n pyscenic pyscenic ctx draft_grn.csv \\\n",
    "    glue.genes_vs_tracks.rankings.feather \\\n",
    "    supp.genes_vs_tracks.rankings.feather \\\n",
    "    --annotations_fname ctx_annotation.tsv \\\n",
    "    --expression_mtx_fname rna.loom \\\n",
    "    --output pruned_grn.csv \\\n",
    "    --rank_threshold 500 --min_genes 1 \\\n",
    "    --num_workers 20 \\\n",
    "    --cell_id_attribute cells --gene_attribute name 2> /dev/null\n",
    "\n",
    "# which will output pruned_grn.csv"
   ]
  }
 ],
 "metadata": {
  "kernelspec": {
   "display_name": "single-cell",
   "language": "python",
   "name": "python3"
  },
  "language_info": {
   "name": "python",
   "version": "3.10.6"
  }
 },
 "nbformat": 4,
 "nbformat_minor": 2
}
