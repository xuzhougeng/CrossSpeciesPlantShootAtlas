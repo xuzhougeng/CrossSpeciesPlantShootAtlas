{
 "cells": [
  {
   "cell_type": "code",
   "execution_count": 50,
   "metadata": {},
   "outputs": [],
   "source": [
    "import scanpy as sc\n",
    "#from .autonotebook import tqdm as notebook_tqdm\n",
    "import numpy as np\n",
    "import matplotlib.pyplot as plt\n",
    "import pandas as pd"
   ]
  },
  {
   "cell_type": "code",
   "execution_count": 53,
   "metadata": {},
   "outputs": [],
   "source": [
    "# \n",
    "h5ad_file = \"saturn_results/test256_data_at_ne_os_pt_sm_ss_v2_org_saturn_seed_0.h5ad\""
   ]
  },
  {
   "cell_type": "code",
   "execution_count": 54,
   "metadata": {},
   "outputs": [],
   "source": [
    "atlas_ad = sc.read_h5ad(h5ad_file)"
   ]
  },
  {
   "cell_type": "code",
   "execution_count": 57,
   "metadata": {},
   "outputs": [
    {
     "data": {
      "text/html": [
       "<div>\n",
       "<style scoped>\n",
       "    .dataframe tbody tr th:only-of-type {\n",
       "        vertical-align: middle;\n",
       "    }\n",
       "\n",
       "    .dataframe tbody tr th {\n",
       "        vertical-align: top;\n",
       "    }\n",
       "\n",
       "    .dataframe thead th {\n",
       "        text-align: right;\n",
       "    }\n",
       "</style>\n",
       "<table border=\"1\" class=\"dataframe\">\n",
       "  <thead>\n",
       "    <tr style=\"text-align: right;\">\n",
       "      <th></th>\n",
       "      <th>labels</th>\n",
       "      <th>labels2</th>\n",
       "      <th>ref_labels</th>\n",
       "      <th>species</th>\n",
       "    </tr>\n",
       "  </thead>\n",
       "  <tbody>\n",
       "    <tr>\n",
       "      <th>shoot1_AAACCTGAGCGTCAAG</th>\n",
       "      <td>at_EC Pavement Cell</td>\n",
       "      <td>EC Pavement Cell</td>\n",
       "      <td>EC Pavement Cell</td>\n",
       "      <td>at</td>\n",
       "    </tr>\n",
       "    <tr>\n",
       "      <th>shoot1_AAACCTGAGGTTCCTA</th>\n",
       "      <td>at_EC Pavement Cell</td>\n",
       "      <td>EC Pavement Cell</td>\n",
       "      <td>EC Pavement Cell</td>\n",
       "      <td>at</td>\n",
       "    </tr>\n",
       "    <tr>\n",
       "      <th>shoot1_AAACCTGAGTAATCCC</th>\n",
       "      <td>at_MC</td>\n",
       "      <td>MC</td>\n",
       "      <td>MC</td>\n",
       "      <td>at</td>\n",
       "    </tr>\n",
       "    <tr>\n",
       "      <th>shoot1_AAACCTGAGTACCGGA</th>\n",
       "      <td>at_EC Pavement Cell</td>\n",
       "      <td>EC Pavement Cell</td>\n",
       "      <td>EC Pavement Cell</td>\n",
       "      <td>at</td>\n",
       "    </tr>\n",
       "    <tr>\n",
       "      <th>shoot1_AAACCTGAGTCGATAA</th>\n",
       "      <td>at_VC Xylem Tracheary Element</td>\n",
       "      <td>VC Xylem Tracheary Element</td>\n",
       "      <td>VC Xylem Tracheary Element</td>\n",
       "      <td>at</td>\n",
       "    </tr>\n",
       "  </tbody>\n",
       "</table>\n",
       "</div>"
      ],
      "text/plain": [
       "                                                labels  \\\n",
       "shoot1_AAACCTGAGCGTCAAG            at_EC Pavement Cell   \n",
       "shoot1_AAACCTGAGGTTCCTA            at_EC Pavement Cell   \n",
       "shoot1_AAACCTGAGTAATCCC                          at_MC   \n",
       "shoot1_AAACCTGAGTACCGGA            at_EC Pavement Cell   \n",
       "shoot1_AAACCTGAGTCGATAA  at_VC Xylem Tracheary Element   \n",
       "\n",
       "                                            labels2  \\\n",
       "shoot1_AAACCTGAGCGTCAAG            EC Pavement Cell   \n",
       "shoot1_AAACCTGAGGTTCCTA            EC Pavement Cell   \n",
       "shoot1_AAACCTGAGTAATCCC                          MC   \n",
       "shoot1_AAACCTGAGTACCGGA            EC Pavement Cell   \n",
       "shoot1_AAACCTGAGTCGATAA  VC Xylem Tracheary Element   \n",
       "\n",
       "                                         ref_labels species  \n",
       "shoot1_AAACCTGAGCGTCAAG            EC Pavement Cell      at  \n",
       "shoot1_AAACCTGAGGTTCCTA            EC Pavement Cell      at  \n",
       "shoot1_AAACCTGAGTAATCCC                          MC      at  \n",
       "shoot1_AAACCTGAGTACCGGA            EC Pavement Cell      at  \n",
       "shoot1_AAACCTGAGTCGATAA  VC Xylem Tracheary Element      at  "
      ]
     },
     "execution_count": 57,
     "metadata": {},
     "output_type": "execute_result"
    }
   ],
   "source": [
    "atlas_ad.obs.head()"
   ]
  },
  {
   "cell_type": "markdown",
   "metadata": {},
   "source": [
    "# Data preprocessing"
   ]
  },
  {
   "cell_type": "code",
   "execution_count": null,
   "metadata": {},
   "outputs": [],
   "source": [
    "sc.pp.pca(atlas_ad)\n",
    "sc.pp.neighbors(atlas_ad)"
   ]
  },
  {
   "cell_type": "code",
   "execution_count": null,
   "metadata": {},
   "outputs": [],
   "source": [
    "sc.tl.umap(atlas_ad, n_components=2)"
   ]
  },
  {
   "cell_type": "code",
   "execution_count": null,
   "metadata": {},
   "outputs": [],
   "source": [
    "## Clustering\n",
    "sc.tl.leiden(atlas_ad, resolution=0.1)"
   ]
  },
  {
   "cell_type": "code",
   "execution_count": null,
   "metadata": {},
   "outputs": [],
   "source": [
    "# Save result\n",
    "atlas_ad.write_h5ad(\"output/atlas.h5ad\")"
   ]
  },
  {
   "cell_type": "markdown",
   "metadata": {},
   "source": [
    "# Visualize data distribution"
   ]
  },
  {
   "cell_type": "code",
   "execution_count": null,
   "metadata": {},
   "outputs": [],
   "source": [
    "# 设置图形参数\n",
    "sc.set_figure_params(dpi=72, color_map = 'viridis_r',figsize=[8,8] )\n",
    "sc.settings.verbosity = 1\n",
    "sc.logging.print_header()"
   ]
  },
  {
   "cell_type": "markdown",
   "metadata": {},
   "source": [
    "## By species"
   ]
  },
  {
   "cell_type": "code",
   "execution_count": null,
   "metadata": {},
   "outputs": [],
   "source": [
    "sc.pl.umap(atlas_ad, color=\"species\", projection=\"2d\", palette='Set1')"
   ]
  },
  {
   "cell_type": "markdown",
   "metadata": {},
   "source": [
    "## Visualize each species individually"
   ]
  },
  {
   "cell_type": "code",
   "execution_count": null,
   "metadata": {},
   "outputs": [],
   "source": [
    "import matplotlib.pyplot as plt\n",
    "from matplotlib.backends.backend_pdf import PdfPages\n",
    "import math\n",
    "\n",
    "# 获取所有不同的物种\n",
    "species = atlas_ad.obs['species'].unique()\n",
    "\n",
    "# 计算行数和列数\n",
    "num_species = len(species)\n",
    "num_cols = 4\n",
    "num_rows = math.ceil(num_species / num_cols)\n",
    "\n",
    "# 打开一个PDF文件\n",
    "with PdfPages('output/species_plots.pdf') as pdf:\n",
    "    # 逐个物种绘制\n",
    "    for i in range(0, num_species, num_cols * num_rows):\n",
    "        # 创建一个新的图形，并设置子图布局\n",
    "        fig, axes = plt.subplots(num_rows, num_cols, figsize=(15, num_rows * 3))\n",
    "        axes = axes.flatten()  # 将二维的 axes 数组展平为一维\n",
    "\n",
    "        # 设置颜色映射和默认的颜色映射\n",
    "        sc.set_figure_params(color_map='Set3')\n",
    "        for j, highlight_species in enumerate(species[i:i + num_cols * num_rows]):\n",
    "            color_map = {}\n",
    "            for sp in species:\n",
    "                if sp == highlight_species:\n",
    "                    color_map[sp] = \"red\"\n",
    "                else:\n",
    "                    color_map[sp] = \"gray\"\n",
    "            # 绘制UMAP图\n",
    "            sc.pl.umap(atlas_ad, color='species', title=f'{highlight_species}', palette=color_map, legend_loc=None, show=False, ax=axes[j])\n",
    "\n",
    "        # 隐藏多余的子图\n",
    "        for k in range(j + 1, num_rows * num_cols):\n",
    "            axes[k].axis('off')\n",
    "\n",
    "        # 调整子图之间的间距并保存页面\n",
    "        plt.tight_layout()\n",
    "        pdf.savefig(fig)  # 保存当前页\n",
    "        plt.close(fig)  # 关闭当前图形，释放内存\n"
   ]
  },
  {
   "cell_type": "markdown",
   "metadata": {},
   "source": [
    "## By original labels"
   ]
  },
  {
   "cell_type": "code",
   "execution_count": null,
   "metadata": {},
   "outputs": [],
   "source": [
    "sc.pl.umap(atlas_ad, color=\"labels2\")"
   ]
  },
  {
   "cell_type": "markdown",
   "metadata": {},
   "source": [
    "## Visualize each cluster individually"
   ]
  },
  {
   "cell_type": "code",
   "execution_count": null,
   "metadata": {},
   "outputs": [],
   "source": [
    "import matplotlib.pyplot as plt\n",
    "from matplotlib.backends.backend_pdf import PdfPages\n",
    "import math\n",
    "\n",
    "# 获取所有的聚类簇和物种\n",
    "clusters = atlas_ad.obs['labels'].unique()\n",
    "species = atlas_ad.obs['species'].unique()\n",
    "\n",
    "# 获取需要绘制的聚类簇\n",
    "all_clusters = clusters.to_list()\n",
    "\n",
    "# 计算行数和列数\n",
    "num_clusters = len(all_clusters)\n",
    "num_cols = 4\n",
    "num_rows = math.ceil(num_clusters / num_cols)\n",
    "\n",
    "# 打开一个PDF文件\n",
    "with PdfPages('output/cluster_plots.pdf') as pdf:\n",
    "    # 逐个聚类簇绘制\n",
    "    for i in range(0, num_clusters, num_cols * num_rows):\n",
    "        # 创建一个新的图形，并设置子图布局\n",
    "        fig, axes = plt.subplots(num_rows, num_cols, figsize=(15, num_rows * 3))\n",
    "        axes = axes.flatten()  # 将二维的 axes 数组展平为一维\n",
    "\n",
    "        # 设置颜色映射和默认的颜色映射\n",
    "        sc.set_figure_params(color_map='Set3')\n",
    "        for j, highlight_cluster in enumerate(all_clusters[i:i + num_cols * num_rows]):\n",
    "            color_map = {}\n",
    "            for cluster in all_clusters:\n",
    "                if cluster == highlight_cluster:\n",
    "                    color_map[cluster] = \"red\"\n",
    "                else:\n",
    "                    color_map[cluster] = \"gray\"\n",
    "            # 绘制UMAP图\n",
    "            sc.pl.umap(atlas_ad, color='labels', title=f'{highlight_cluster}', palette=color_map, legend_loc=None, show=False, ax=axes[j])\n",
    "\n",
    "        # 隐藏多余的子图\n",
    "        for k in range(j + 1, num_rows * num_cols):\n",
    "            axes[k].axis('off')\n",
    "\n",
    "        # 调整子图之间的间距并保存页面\n",
    "        plt.tight_layout()\n",
    "        pdf.savefig(fig)  # 保存当前页\n",
    "        plt.close(fig)  # 关闭当前图形，释放内存\n"
   ]
  },
  {
   "cell_type": "markdown",
   "metadata": {},
   "source": [
    "## Species composition in different clusters"
   ]
  },
  {
   "cell_type": "code",
   "execution_count": null,
   "metadata": {},
   "outputs": [],
   "source": [
    "sc.pl.umap(adata=atlas_ad, color='leiden', legend_loc='on data')"
   ]
  },
  {
   "cell_type": "code",
   "execution_count": null,
   "metadata": {},
   "outputs": [],
   "source": [
    "import pandas as pd\n",
    "import matplotlib.pyplot as plt\n",
    "\n",
    "# 将数据转换为DataFrame\n",
    "data = pd.DataFrame(atlas_ad.obs)\n",
    "\n",
    "# 计算每个聚类中每种物种的计数\n",
    "count_table = data.groupby(['leiden', 'species']).size().unstack(fill_value=0)\n",
    "\n",
    "# 将计数转换为比例\n",
    "proportion_table = count_table.div(count_table.sum(axis=1), axis=0)\n",
    "\n",
    "# 绘制堆叠柱状图\n",
    "ax = proportion_table.plot(kind='bar', stacked=True, figsize=(10, 6), width=.8)\n",
    "\n",
    "# 设置图形的标题和标签\n",
    "ax.set_title('Proportion of Species in Each Cluster')\n",
    "ax.set_xlabel('Cluster')\n",
    "ax.set_ylabel('Proportion')\n",
    "ax.grid(False)\n",
    "# 显示图例\n",
    "ax.legend(title='Species', bbox_to_anchor=(1.05, 1), loc='upper left')\n",
    "\n",
    "# 显示图形\n",
    "plt.tight_layout()\n",
    "plt.show()\n"
   ]
  },
  {
   "cell_type": "markdown",
   "metadata": {},
   "source": [
    "# Similarity evaluation"
   ]
  },
  {
   "cell_type": "code",
   "execution_count": 106,
   "metadata": {},
   "outputs": [],
   "source": [
    "%run scripts/utils.py"
   ]
  },
  {
   "cell_type": "code",
   "execution_count": 111,
   "metadata": {},
   "outputs": [],
   "source": [
    "all_nbrs = cross_species_knn_all(atlas_ad, col='labels', metric='cosine', space='raw', k=5,\n",
    "                                     species='at', consider_same_species=False)"
   ]
  },
  {
   "cell_type": "code",
   "execution_count": 115,
   "metadata": {},
   "outputs": [],
   "source": [
    "df = pd.DataFrame(all_nbrs, columns=['at','other'])"
   ]
  },
  {
   "cell_type": "code",
   "execution_count": 118,
   "metadata": {},
   "outputs": [],
   "source": [
    "df = df.sort_values('at')"
   ]
  },
  {
   "cell_type": "markdown",
   "metadata": {},
   "source": [
    "# Macrogene differential expression"
   ]
  },
  {
   "cell_type": "code",
   "execution_count": 126,
   "metadata": {},
   "outputs": [],
   "source": [
    "import pickle"
   ]
  },
  {
   "cell_type": "code",
   "execution_count": 127,
   "metadata": {},
   "outputs": [],
   "source": [
    "with open(\"saturn_results/test256_data_at_ne_os_pt_sm_ss_v2_org_saturn_seed_0_genes_to_macrogenes.pkl\", \"rb\") as f:\n",
    "    macrogene_weights = pickle.load(f)"
   ]
  },
  {
   "cell_type": "code",
   "execution_count": 128,
   "metadata": {},
   "outputs": [
    {
     "data": {
      "text/plain": [
       "48000"
      ]
     },
     "execution_count": 128,
     "metadata": {},
     "output_type": "execute_result"
    }
   ],
   "source": [
    "# macrogene weights is a dictionary of (species_{gene name}) : [gene to macrogen weight](1x2000)\n",
    "len(macrogene_weights)"
   ]
  },
  {
   "cell_type": "code",
   "execution_count": 104,
   "metadata": {},
   "outputs": [],
   "source": [
    "# Create a copy of the adata with macrogenes as the X values\n",
    "macrogene_adata = sc.AnnData(atlas_ad.obsm[\"macrogenes\"])\n",
    "macrogene_adata.obs = atlas_ad.obs\n"
   ]
  },
  {
   "cell_type": "code",
   "execution_count": 131,
   "metadata": {},
   "outputs": [
    {
     "data": {
      "text/plain": [
       "(98396, 2000)"
      ]
     },
     "execution_count": 131,
     "metadata": {},
     "output_type": "execute_result"
    }
   ],
   "source": [
    "# Rows are cells, columns are macrogenes, each value corresponds to the gene weight\n",
    "macrogene_adata.shape"
   ]
  },
  {
   "cell_type": "code",
   "execution_count": null,
   "metadata": {},
   "outputs": [],
   "source": [
    "macrogene_adata.obs"
   ]
  },
  {
   "cell_type": "code",
   "execution_count": 134,
   "metadata": {},
   "outputs": [
    {
     "name": "stderr",
     "output_type": "stream",
     "text": [
      "/home/xzg/miniforge3/envs/SATURN/lib/python3.10/site-packages/numpy/core/fromnumeric.py:86: FutureWarning: The behavior of DataFrame.sum with axis=None is deprecated, in a future version this will reduce over both axes and return a scalar. To retain the old behavior, pass axis=0 (or do not pass axis)\n",
      "  return reduction(axis=axis, out=out, **passkwargs)\n"
     ]
    }
   ],
   "source": [
    "# Differential analysis based on specified group\n",
    "sc.tl.rank_genes_groups(macrogene_adata, groupby=\"leiden\", groups=[\"11\"], method=\"wilcoxon\")"
   ]
  },
  {
   "cell_type": "code",
   "execution_count": null,
   "metadata": {},
   "outputs": [],
   "source": [
    "sc.pl.rank_genes_groups(macrogene_adata)"
   ]
  },
  {
   "cell_type": "code",
   "execution_count": null,
   "metadata": {},
   "outputs": [],
   "source": [
    "sc.pl.rank_genes_groups_dotplot(macrogene_adata,swap_axes=True)"
   ]
  },
  {
   "cell_type": "code",
   "execution_count": null,
   "metadata": {},
   "outputs": [],
   "source": [
    "de_df = sc.get.rank_genes_groups_df(macrogene_adata, group=\"11\").head(20)\n",
    "de_df"
   ]
  },
  {
   "cell_type": "code",
   "execution_count": 137,
   "metadata": {},
   "outputs": [],
   "source": [
    "def get_scores(macrogene):\n",
    "    '''\n",
    "    Given the index of a macrogene, return the scores by gene for that centroid\n",
    "    '''\n",
    "    scores = {}\n",
    "    for (gene), score in macrogene_weights.items():\n",
    "        scores[gene] = score[int(macrogene)]\n",
    "    return scores"
   ]
  },
  {
   "cell_type": "code",
   "execution_count": 138,
   "metadata": {},
   "outputs": [],
   "source": [
    "macrogene = 891\n",
    "df = pd.DataFrame(get_scores(macrogene).items(), columns=[\"gene\", \"weight\"])\\\n",
    "        .sort_values(\"weight\", ascending=False)"
   ]
  },
  {
   "cell_type": "code",
   "execution_count": null,
   "metadata": {},
   "outputs": [],
   "source": [
    "for macrogene in de_df[\"names\"]:\n",
    "    print(f\"Macrogene {macrogene}\")\n",
    "    df = pd.DataFrame(get_scores(macrogene).items(), columns=[\"gene\", \"weight\"])\\\n",
    "            .sort_values(\"weight\", ascending=False)\n",
    "    #df.reset_index(inplace=True)\n",
    "    # get the rank of the gene in df and print it\n",
    "    #print(df[df[\"gene\"] == gene].index[0])\n",
    "    display(df.head(20))\n",
    "\n"
   ]
  }
 ],
 "metadata": {
  "kernelspec": {
   "display_name": "SATURN",
   "language": "python",
   "name": "python3"
  },
  "language_info": {
   "codemirror_mode": {
    "name": "ipython",
    "version": 3
   },
   "file_extension": ".py",
   "mimetype": "text/x-python",
   "name": "python",
   "nbconvert_exporter": "python",
   "pygments_lexer": "ipython3",
   "version": "3.10.13"
  }
 },
 "nbformat": 4,
 "nbformat_minor": 2
}
